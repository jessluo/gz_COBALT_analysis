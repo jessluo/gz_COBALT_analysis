{
 "cells": [
  {
   "cell_type": "code",
   "execution_count": 111,
   "metadata": {},
   "outputs": [],
   "source": [
    "%matplotlib inline\n",
    "\n",
    "import os, subprocess, tarfile\n",
    "from glob import glob\n",
    "import numpy as np\n",
    "import xarray as xr\n",
    "import matplotlib\n",
    "import matplotlib.pyplot as plt\n",
    "import matplotlib.gridspec as gridspec\n",
    "import cartopy.crs as ccrs\n",
    "\n",
    "import warnings\n",
    "warnings.filterwarnings('ignore')\n",
    "\n",
    "seconds_per_day=60.*60.*24.\n",
    "seconds_per_year=365.*seconds_per_day\n",
    "carbon_molar_mass=12.011\n",
    "cobalt_n_2_c = 106./16."
   ]
  },
  {
   "cell_type": "code",
   "execution_count": 112,
   "metadata": {},
   "outputs": [],
   "source": [
    "path_root='/archive/Jessica.Luo/gz_test/MOM6_SIS2_COBALT'\n",
    "\n",
    "case,machine_target='OM4p5_CORE2_IAF_gzCOBALT-Control-062321','gfdl.ncrc4-intel16-prod'\n",
    "#case,machine_target='OM4p5_CORE2_IAF_gzCOBALT-013022','gfdl.ncrc4-intel19-prod'"
   ]
  },
  {
   "cell_type": "code",
   "execution_count": 113,
   "metadata": {},
   "outputs": [
    {
     "name": "stdout",
     "output_type": "stream",
     "text": [
      "gzCOBALT-Control-062321 gzCOBALT-Control-062321\n"
     ]
    }
   ],
   "source": [
    "short_casename=case.replace('OM4p5_CORE2_IAF_','')\n",
    "if short_casename==\"gzCOBALT-013022\":\n",
    "    fig_casename='ms_gzCOBALT'\n",
    "else:\n",
    "    fig_casename=short_casename\n",
    "print(short_casename, fig_casename)"
   ]
  },
  {
   "cell_type": "code",
   "execution_count": 114,
   "metadata": {},
   "outputs": [],
   "source": [
    "phyto_varlist = ['di', 'smp', 'lgp']\n",
    "#zoo_varlist = ['smz', 'mdz', 'lgz']\n",
    "zoo_varlist = ['smz', 'mdz', 'lgz', 'smt', 'lgt']"
   ]
  },
  {
   "cell_type": "code",
   "execution_count": 115,
   "metadata": {},
   "outputs": [
    {
     "name": "stdout",
     "output_type": "stream",
     "text": [
      "temporary directory exists: /work/Jessica.Luo/tmp/OM4p5_CORE2_IAF_gzCOBALT-Control-062321\n"
     ]
    }
   ],
   "source": [
    "tmpdir = '/work/Jessica.Luo/tmp/'+case\n",
    "if not os.path.exists(tmpdir):\n",
    "    os.mkdir(tmpdir)\n",
    "    print('created directory: '+tmpdir)\n",
    "else:\n",
    "    print('temporary directory exists: '+tmpdir)"
   ]
  },
  {
   "cell_type": "code",
   "execution_count": 116,
   "metadata": {},
   "outputs": [
    {
     "name": "stdout",
     "output_type": "stream",
     "text": [
      "['/work/Jessica.Luo/tmp/OM4p5_CORE2_IAF_gzCOBALT-Control-062321/ocean_cobalt_fdet_100.1988-2007.01.nc', '/work/Jessica.Luo/tmp/OM4p5_CORE2_IAF_gzCOBALT-Control-062321/ocean_cobalt_fdet_100.1988-2007.02.nc', '/work/Jessica.Luo/tmp/OM4p5_CORE2_IAF_gzCOBALT-Control-062321/ocean_cobalt_fdet_100.1988-2007.03.nc', '/work/Jessica.Luo/tmp/OM4p5_CORE2_IAF_gzCOBALT-Control-062321/ocean_cobalt_fdet_100.1988-2007.04.nc', '/work/Jessica.Luo/tmp/OM4p5_CORE2_IAF_gzCOBALT-Control-062321/ocean_cobalt_fdet_100.1988-2007.05.nc', '/work/Jessica.Luo/tmp/OM4p5_CORE2_IAF_gzCOBALT-Control-062321/ocean_cobalt_fdet_100.1988-2007.06.nc', '/work/Jessica.Luo/tmp/OM4p5_CORE2_IAF_gzCOBALT-Control-062321/ocean_cobalt_fdet_100.1988-2007.07.nc', '/work/Jessica.Luo/tmp/OM4p5_CORE2_IAF_gzCOBALT-Control-062321/ocean_cobalt_fdet_100.1988-2007.08.nc', '/work/Jessica.Luo/tmp/OM4p5_CORE2_IAF_gzCOBALT-Control-062321/ocean_cobalt_fdet_100.1988-2007.09.nc', '/work/Jessica.Luo/tmp/OM4p5_CORE2_IAF_gzCOBALT-Control-062321/ocean_cobalt_fdet_100.1988-2007.10.nc', '/work/Jessica.Luo/tmp/OM4p5_CORE2_IAF_gzCOBALT-Control-062321/ocean_cobalt_fdet_100.1988-2007.11.nc', '/work/Jessica.Luo/tmp/OM4p5_CORE2_IAF_gzCOBALT-Control-062321/ocean_cobalt_fdet_100.1988-2007.12.nc', '/work/Jessica.Luo/tmp/OM4p5_CORE2_IAF_gzCOBALT-Control-062321/ocean_cobalt_fluxes_int.1988-2007.01.nc', '/work/Jessica.Luo/tmp/OM4p5_CORE2_IAF_gzCOBALT-Control-062321/ocean_cobalt_fluxes_int.1988-2007.02.nc', '/work/Jessica.Luo/tmp/OM4p5_CORE2_IAF_gzCOBALT-Control-062321/ocean_cobalt_fluxes_int.1988-2007.03.nc', '/work/Jessica.Luo/tmp/OM4p5_CORE2_IAF_gzCOBALT-Control-062321/ocean_cobalt_fluxes_int.1988-2007.04.nc', '/work/Jessica.Luo/tmp/OM4p5_CORE2_IAF_gzCOBALT-Control-062321/ocean_cobalt_fluxes_int.1988-2007.05.nc', '/work/Jessica.Luo/tmp/OM4p5_CORE2_IAF_gzCOBALT-Control-062321/ocean_cobalt_fluxes_int.1988-2007.06.nc', '/work/Jessica.Luo/tmp/OM4p5_CORE2_IAF_gzCOBALT-Control-062321/ocean_cobalt_fluxes_int.1988-2007.07.nc', '/work/Jessica.Luo/tmp/OM4p5_CORE2_IAF_gzCOBALT-Control-062321/ocean_cobalt_fluxes_int.1988-2007.08.nc', '/work/Jessica.Luo/tmp/OM4p5_CORE2_IAF_gzCOBALT-Control-062321/ocean_cobalt_fluxes_int.1988-2007.09.nc', '/work/Jessica.Luo/tmp/OM4p5_CORE2_IAF_gzCOBALT-Control-062321/ocean_cobalt_fluxes_int.1988-2007.10.nc', '/work/Jessica.Luo/tmp/OM4p5_CORE2_IAF_gzCOBALT-Control-062321/ocean_cobalt_fluxes_int.1988-2007.11.nc', '/work/Jessica.Luo/tmp/OM4p5_CORE2_IAF_gzCOBALT-Control-062321/ocean_cobalt_fluxes_int.1988-2007.12.nc', '/work/Jessica.Luo/tmp/OM4p5_CORE2_IAF_gzCOBALT-Control-062321/ocean_cobalt_omip_tracers_month_z.1988-2007.01.nc', '/work/Jessica.Luo/tmp/OM4p5_CORE2_IAF_gzCOBALT-Control-062321/ocean_cobalt_omip_tracers_month_z.1988-2007.02.nc', '/work/Jessica.Luo/tmp/OM4p5_CORE2_IAF_gzCOBALT-Control-062321/ocean_cobalt_omip_tracers_month_z.1988-2007.03.nc', '/work/Jessica.Luo/tmp/OM4p5_CORE2_IAF_gzCOBALT-Control-062321/ocean_cobalt_omip_tracers_month_z.1988-2007.04.nc', '/work/Jessica.Luo/tmp/OM4p5_CORE2_IAF_gzCOBALT-Control-062321/ocean_cobalt_omip_tracers_month_z.1988-2007.05.nc', '/work/Jessica.Luo/tmp/OM4p5_CORE2_IAF_gzCOBALT-Control-062321/ocean_cobalt_omip_tracers_month_z.1988-2007.06.nc', '/work/Jessica.Luo/tmp/OM4p5_CORE2_IAF_gzCOBALT-Control-062321/ocean_cobalt_omip_tracers_month_z.1988-2007.07.nc', '/work/Jessica.Luo/tmp/OM4p5_CORE2_IAF_gzCOBALT-Control-062321/ocean_cobalt_omip_tracers_month_z.1988-2007.08.nc', '/work/Jessica.Luo/tmp/OM4p5_CORE2_IAF_gzCOBALT-Control-062321/ocean_cobalt_omip_tracers_month_z.1988-2007.09.nc', '/work/Jessica.Luo/tmp/OM4p5_CORE2_IAF_gzCOBALT-Control-062321/ocean_cobalt_omip_tracers_month_z.1988-2007.10.nc', '/work/Jessica.Luo/tmp/OM4p5_CORE2_IAF_gzCOBALT-Control-062321/ocean_cobalt_omip_tracers_month_z.1988-2007.11.nc', '/work/Jessica.Luo/tmp/OM4p5_CORE2_IAF_gzCOBALT-Control-062321/ocean_cobalt_omip_tracers_month_z.1988-2007.12.nc', '/work/Jessica.Luo/tmp/OM4p5_CORE2_IAF_gzCOBALT-Control-062321/ocean_cobalt_tracers_int.1988-2007.01.nc', '/work/Jessica.Luo/tmp/OM4p5_CORE2_IAF_gzCOBALT-Control-062321/ocean_cobalt_tracers_int.1988-2007.02.nc', '/work/Jessica.Luo/tmp/OM4p5_CORE2_IAF_gzCOBALT-Control-062321/ocean_cobalt_tracers_int.1988-2007.03.nc', '/work/Jessica.Luo/tmp/OM4p5_CORE2_IAF_gzCOBALT-Control-062321/ocean_cobalt_tracers_int.1988-2007.04.nc', '/work/Jessica.Luo/tmp/OM4p5_CORE2_IAF_gzCOBALT-Control-062321/ocean_cobalt_tracers_int.1988-2007.05.nc', '/work/Jessica.Luo/tmp/OM4p5_CORE2_IAF_gzCOBALT-Control-062321/ocean_cobalt_tracers_int.1988-2007.06.nc', '/work/Jessica.Luo/tmp/OM4p5_CORE2_IAF_gzCOBALT-Control-062321/ocean_cobalt_tracers_int.1988-2007.07.nc', '/work/Jessica.Luo/tmp/OM4p5_CORE2_IAF_gzCOBALT-Control-062321/ocean_cobalt_tracers_int.1988-2007.08.nc', '/work/Jessica.Luo/tmp/OM4p5_CORE2_IAF_gzCOBALT-Control-062321/ocean_cobalt_tracers_int.1988-2007.09.nc', '/work/Jessica.Luo/tmp/OM4p5_CORE2_IAF_gzCOBALT-Control-062321/ocean_cobalt_tracers_int.1988-2007.10.nc', '/work/Jessica.Luo/tmp/OM4p5_CORE2_IAF_gzCOBALT-Control-062321/ocean_cobalt_tracers_int.1988-2007.11.nc', '/work/Jessica.Luo/tmp/OM4p5_CORE2_IAF_gzCOBALT-Control-062321/ocean_cobalt_tracers_int.1988-2007.12.nc']\n"
     ]
    }
   ],
   "source": [
    "# read in files\n",
    "diagTypes = ['ocean_cobalt_omip_tracers_month_z', 'ocean_cobalt_fluxes_int', 'ocean_cobalt_fdet_100', 'ocean_cobalt_tracers_int'] \n",
    "\n",
    "#pp_dates='1953-1957'\n",
    "pp_dates='1988-2007'\n",
    "\n",
    "\n",
    "files=[glob(tmpdir + '/'+ d + '.' + pp_dates + '*.nc') for d in diagTypes]\n",
    "\n",
    "files=sorted([f for fi in files for f in fi]) # nested list comprehension\n",
    "print(files)"
   ]
  },
  {
   "cell_type": "code",
   "execution_count": 117,
   "metadata": {},
   "outputs": [],
   "source": [
    "if not files:\n",
    "    pp_path=os.path.join(path_root, case, machine_target, 'pp')\n",
    "    \n",
    "    files=[glob(pp_path + '/' + d + '/av/monthly_5yr/' + d + '.' + pp_dates + '*.nc') for d in diagTypes]\n",
    "    \n",
    "    files=sorted([f for fi in files for f in fi]) # nested list comprehension\n",
    "    print(files)\n"
   ]
  },
  {
   "cell_type": "code",
   "execution_count": 118,
   "metadata": {},
   "outputs": [],
   "source": [
    "grid_file=os.path.join(path_root, case, machine_target, 'pp')+'/ocean_annual/ocean_annual.static.nc'\n",
    "ds=xr.open_mfdataset(files, combine='by_coords')\n",
    "grid=xr.open_dataset(grid_file)"
   ]
  },
  {
   "cell_type": "code",
   "execution_count": 119,
   "metadata": {},
   "outputs": [
    {
     "data": {
      "text/html": [
       "<div><svg style=\"position: absolute; width: 0; height: 0; overflow: hidden\">\n",
       "<defs>\n",
       "<symbol id=\"icon-database\" viewBox=\"0 0 32 32\">\n",
       "<path d=\"M16 0c-8.837 0-16 2.239-16 5v4c0 2.761 7.163 5 16 5s16-2.239 16-5v-4c0-2.761-7.163-5-16-5z\"></path>\n",
       "<path d=\"M16 17c-8.837 0-16-2.239-16-5v6c0 2.761 7.163 5 16 5s16-2.239 16-5v-6c0 2.761-7.163 5-16 5z\"></path>\n",
       "<path d=\"M16 26c-8.837 0-16-2.239-16-5v6c0 2.761 7.163 5 16 5s16-2.239 16-5v-6c0 2.761-7.163 5-16 5z\"></path>\n",
       "</symbol>\n",
       "<symbol id=\"icon-file-text2\" viewBox=\"0 0 32 32\">\n",
       "<path d=\"M28.681 7.159c-0.694-0.947-1.662-2.053-2.724-3.116s-2.169-2.030-3.116-2.724c-1.612-1.182-2.393-1.319-2.841-1.319h-15.5c-1.378 0-2.5 1.121-2.5 2.5v27c0 1.378 1.122 2.5 2.5 2.5h23c1.378 0 2.5-1.122 2.5-2.5v-19.5c0-0.448-0.137-1.23-1.319-2.841zM24.543 5.457c0.959 0.959 1.712 1.825 2.268 2.543h-4.811v-4.811c0.718 0.556 1.584 1.309 2.543 2.268zM28 29.5c0 0.271-0.229 0.5-0.5 0.5h-23c-0.271 0-0.5-0.229-0.5-0.5v-27c0-0.271 0.229-0.5 0.5-0.5 0 0 15.499-0 15.5 0v7c0 0.552 0.448 1 1 1h7v19.5z\"></path>\n",
       "<path d=\"M23 26h-14c-0.552 0-1-0.448-1-1s0.448-1 1-1h14c0.552 0 1 0.448 1 1s-0.448 1-1 1z\"></path>\n",
       "<path d=\"M23 22h-14c-0.552 0-1-0.448-1-1s0.448-1 1-1h14c0.552 0 1 0.448 1 1s-0.448 1-1 1z\"></path>\n",
       "<path d=\"M23 18h-14c-0.552 0-1-0.448-1-1s0.448-1 1-1h14c0.552 0 1 0.448 1 1s-0.448 1-1 1z\"></path>\n",
       "</symbol>\n",
       "</defs>\n",
       "</svg>\n",
       "<style>/* CSS stylesheet for displaying xarray objects in jupyterlab.\n",
       " *\n",
       " */\n",
       "\n",
       ":root {\n",
       "  --xr-font-color0: var(--jp-content-font-color0, rgba(0, 0, 0, 1));\n",
       "  --xr-font-color2: var(--jp-content-font-color2, rgba(0, 0, 0, 0.54));\n",
       "  --xr-font-color3: var(--jp-content-font-color3, rgba(0, 0, 0, 0.38));\n",
       "  --xr-border-color: var(--jp-border-color2, #e0e0e0);\n",
       "  --xr-disabled-color: var(--jp-layout-color3, #bdbdbd);\n",
       "  --xr-background-color: var(--jp-layout-color0, white);\n",
       "  --xr-background-color-row-even: var(--jp-layout-color1, white);\n",
       "  --xr-background-color-row-odd: var(--jp-layout-color2, #eeeeee);\n",
       "}\n",
       "\n",
       "html[theme=dark],\n",
       "body.vscode-dark {\n",
       "  --xr-font-color0: rgba(255, 255, 255, 1);\n",
       "  --xr-font-color2: rgba(255, 255, 255, 0.54);\n",
       "  --xr-font-color3: rgba(255, 255, 255, 0.38);\n",
       "  --xr-border-color: #1F1F1F;\n",
       "  --xr-disabled-color: #515151;\n",
       "  --xr-background-color: #111111;\n",
       "  --xr-background-color-row-even: #111111;\n",
       "  --xr-background-color-row-odd: #313131;\n",
       "}\n",
       "\n",
       ".xr-wrap {\n",
       "  display: block;\n",
       "  min-width: 300px;\n",
       "  max-width: 700px;\n",
       "}\n",
       "\n",
       ".xr-text-repr-fallback {\n",
       "  /* fallback to plain text repr when CSS is not injected (untrusted notebook) */\n",
       "  display: none;\n",
       "}\n",
       "\n",
       ".xr-header {\n",
       "  padding-top: 6px;\n",
       "  padding-bottom: 6px;\n",
       "  margin-bottom: 4px;\n",
       "  border-bottom: solid 1px var(--xr-border-color);\n",
       "}\n",
       "\n",
       ".xr-header > div,\n",
       ".xr-header > ul {\n",
       "  display: inline;\n",
       "  margin-top: 0;\n",
       "  margin-bottom: 0;\n",
       "}\n",
       "\n",
       ".xr-obj-type,\n",
       ".xr-array-name {\n",
       "  margin-left: 2px;\n",
       "  margin-right: 10px;\n",
       "}\n",
       "\n",
       ".xr-obj-type {\n",
       "  color: var(--xr-font-color2);\n",
       "}\n",
       "\n",
       ".xr-sections {\n",
       "  padding-left: 0 !important;\n",
       "  display: grid;\n",
       "  grid-template-columns: 150px auto auto 1fr 20px 20px;\n",
       "}\n",
       "\n",
       ".xr-section-item {\n",
       "  display: contents;\n",
       "}\n",
       "\n",
       ".xr-section-item input {\n",
       "  display: none;\n",
       "}\n",
       "\n",
       ".xr-section-item input + label {\n",
       "  color: var(--xr-disabled-color);\n",
       "}\n",
       "\n",
       ".xr-section-item input:enabled + label {\n",
       "  cursor: pointer;\n",
       "  color: var(--xr-font-color2);\n",
       "}\n",
       "\n",
       ".xr-section-item input:enabled + label:hover {\n",
       "  color: var(--xr-font-color0);\n",
       "}\n",
       "\n",
       ".xr-section-summary {\n",
       "  grid-column: 1;\n",
       "  color: var(--xr-font-color2);\n",
       "  font-weight: 500;\n",
       "}\n",
       "\n",
       ".xr-section-summary > span {\n",
       "  display: inline-block;\n",
       "  padding-left: 0.5em;\n",
       "}\n",
       "\n",
       ".xr-section-summary-in:disabled + label {\n",
       "  color: var(--xr-font-color2);\n",
       "}\n",
       "\n",
       ".xr-section-summary-in + label:before {\n",
       "  display: inline-block;\n",
       "  content: '►';\n",
       "  font-size: 11px;\n",
       "  width: 15px;\n",
       "  text-align: center;\n",
       "}\n",
       "\n",
       ".xr-section-summary-in:disabled + label:before {\n",
       "  color: var(--xr-disabled-color);\n",
       "}\n",
       "\n",
       ".xr-section-summary-in:checked + label:before {\n",
       "  content: '▼';\n",
       "}\n",
       "\n",
       ".xr-section-summary-in:checked + label > span {\n",
       "  display: none;\n",
       "}\n",
       "\n",
       ".xr-section-summary,\n",
       ".xr-section-inline-details {\n",
       "  padding-top: 4px;\n",
       "  padding-bottom: 4px;\n",
       "}\n",
       "\n",
       ".xr-section-inline-details {\n",
       "  grid-column: 2 / -1;\n",
       "}\n",
       "\n",
       ".xr-section-details {\n",
       "  display: none;\n",
       "  grid-column: 1 / -1;\n",
       "  margin-bottom: 5px;\n",
       "}\n",
       "\n",
       ".xr-section-summary-in:checked ~ .xr-section-details {\n",
       "  display: contents;\n",
       "}\n",
       "\n",
       ".xr-array-wrap {\n",
       "  grid-column: 1 / -1;\n",
       "  display: grid;\n",
       "  grid-template-columns: 20px auto;\n",
       "}\n",
       "\n",
       ".xr-array-wrap > label {\n",
       "  grid-column: 1;\n",
       "  vertical-align: top;\n",
       "}\n",
       "\n",
       ".xr-preview {\n",
       "  color: var(--xr-font-color3);\n",
       "}\n",
       "\n",
       ".xr-array-preview,\n",
       ".xr-array-data {\n",
       "  padding: 0 5px !important;\n",
       "  grid-column: 2;\n",
       "}\n",
       "\n",
       ".xr-array-data,\n",
       ".xr-array-in:checked ~ .xr-array-preview {\n",
       "  display: none;\n",
       "}\n",
       "\n",
       ".xr-array-in:checked ~ .xr-array-data,\n",
       ".xr-array-preview {\n",
       "  display: inline-block;\n",
       "}\n",
       "\n",
       ".xr-dim-list {\n",
       "  display: inline-block !important;\n",
       "  list-style: none;\n",
       "  padding: 0 !important;\n",
       "  margin: 0;\n",
       "}\n",
       "\n",
       ".xr-dim-list li {\n",
       "  display: inline-block;\n",
       "  padding: 0;\n",
       "  margin: 0;\n",
       "}\n",
       "\n",
       ".xr-dim-list:before {\n",
       "  content: '(';\n",
       "}\n",
       "\n",
       ".xr-dim-list:after {\n",
       "  content: ')';\n",
       "}\n",
       "\n",
       ".xr-dim-list li:not(:last-child):after {\n",
       "  content: ',';\n",
       "  padding-right: 5px;\n",
       "}\n",
       "\n",
       ".xr-has-index {\n",
       "  font-weight: bold;\n",
       "}\n",
       "\n",
       ".xr-var-list,\n",
       ".xr-var-item {\n",
       "  display: contents;\n",
       "}\n",
       "\n",
       ".xr-var-item > div,\n",
       ".xr-var-item label,\n",
       ".xr-var-item > .xr-var-name span {\n",
       "  background-color: var(--xr-background-color-row-even);\n",
       "  margin-bottom: 0;\n",
       "}\n",
       "\n",
       ".xr-var-item > .xr-var-name:hover span {\n",
       "  padding-right: 5px;\n",
       "}\n",
       "\n",
       ".xr-var-list > li:nth-child(odd) > div,\n",
       ".xr-var-list > li:nth-child(odd) > label,\n",
       ".xr-var-list > li:nth-child(odd) > .xr-var-name span {\n",
       "  background-color: var(--xr-background-color-row-odd);\n",
       "}\n",
       "\n",
       ".xr-var-name {\n",
       "  grid-column: 1;\n",
       "}\n",
       "\n",
       ".xr-var-dims {\n",
       "  grid-column: 2;\n",
       "}\n",
       "\n",
       ".xr-var-dtype {\n",
       "  grid-column: 3;\n",
       "  text-align: right;\n",
       "  color: var(--xr-font-color2);\n",
       "}\n",
       "\n",
       ".xr-var-preview {\n",
       "  grid-column: 4;\n",
       "}\n",
       "\n",
       ".xr-var-name,\n",
       ".xr-var-dims,\n",
       ".xr-var-dtype,\n",
       ".xr-preview,\n",
       ".xr-attrs dt {\n",
       "  white-space: nowrap;\n",
       "  overflow: hidden;\n",
       "  text-overflow: ellipsis;\n",
       "  padding-right: 10px;\n",
       "}\n",
       "\n",
       ".xr-var-name:hover,\n",
       ".xr-var-dims:hover,\n",
       ".xr-var-dtype:hover,\n",
       ".xr-attrs dt:hover {\n",
       "  overflow: visible;\n",
       "  width: auto;\n",
       "  z-index: 1;\n",
       "}\n",
       "\n",
       ".xr-var-attrs,\n",
       ".xr-var-data {\n",
       "  display: none;\n",
       "  background-color: var(--xr-background-color) !important;\n",
       "  padding-bottom: 5px !important;\n",
       "}\n",
       "\n",
       ".xr-var-attrs-in:checked ~ .xr-var-attrs,\n",
       ".xr-var-data-in:checked ~ .xr-var-data {\n",
       "  display: block;\n",
       "}\n",
       "\n",
       ".xr-var-data > table {\n",
       "  float: right;\n",
       "}\n",
       "\n",
       ".xr-var-name span,\n",
       ".xr-var-data,\n",
       ".xr-attrs {\n",
       "  padding-left: 25px !important;\n",
       "}\n",
       "\n",
       ".xr-attrs,\n",
       ".xr-var-attrs,\n",
       ".xr-var-data {\n",
       "  grid-column: 1 / -1;\n",
       "}\n",
       "\n",
       "dl.xr-attrs {\n",
       "  padding: 0;\n",
       "  margin: 0;\n",
       "  display: grid;\n",
       "  grid-template-columns: 125px auto;\n",
       "}\n",
       "\n",
       ".xr-attrs dt,\n",
       ".xr-attrs dd {\n",
       "  padding: 0;\n",
       "  margin: 0;\n",
       "  float: left;\n",
       "  padding-right: 10px;\n",
       "  width: auto;\n",
       "}\n",
       "\n",
       ".xr-attrs dt {\n",
       "  font-weight: normal;\n",
       "  grid-column: 1;\n",
       "}\n",
       "\n",
       ".xr-attrs dt:hover span {\n",
       "  display: inline-block;\n",
       "  background: var(--xr-background-color);\n",
       "  padding-right: 10px;\n",
       "}\n",
       "\n",
       ".xr-attrs dd {\n",
       "  grid-column: 2;\n",
       "  white-space: pre-wrap;\n",
       "  word-break: break-all;\n",
       "}\n",
       "\n",
       ".xr-icon-database,\n",
       ".xr-icon-file-text2 {\n",
       "  display: inline-block;\n",
       "  vertical-align: middle;\n",
       "  width: 1em;\n",
       "  height: 1.5em !important;\n",
       "  stroke-width: 0;\n",
       "  stroke: currentColor;\n",
       "  fill: currentColor;\n",
       "}\n",
       "</style><pre class='xr-text-repr-fallback'>&lt;xarray.DataArray &#x27;depth_levels&#x27; (z_l: 35)&gt;\n",
       "array([  5. ,  10. ,  10. ,  15. ,  22.5,  25. ,  25. ,  25. ,  37.5,\n",
       "        50. ,  50. ,  75. , 100. , 100. , 100. , 100. , 100. , 100. ,\n",
       "       100. , 100. , 100. , 100. , 100. , 175. , 250. , 375. , 500. ,\n",
       "       500. , 500. , 500. , 500. , 500. , 500. , 500. , 500. ])\n",
       "Coordinates:\n",
       "  * z_l      (z_l) float64 2.5 10.0 20.0 32.5 ... 5e+03 5.5e+03 6e+03 6.5e+03\n",
       "Attributes:\n",
       "    long_name:  Thickness of depth bin\n",
       "    units:      meters</pre><div class='xr-wrap' hidden><div class='xr-header'><div class='xr-obj-type'>xarray.DataArray</div><div class='xr-array-name'>'depth_levels'</div><ul class='xr-dim-list'><li><span class='xr-has-index'>z_l</span>: 35</li></ul></div><ul class='xr-sections'><li class='xr-section-item'><div class='xr-array-wrap'><input id='section-7ba2a36c-75aa-4799-9e1a-1fd785468c15' class='xr-array-in' type='checkbox' checked><label for='section-7ba2a36c-75aa-4799-9e1a-1fd785468c15' title='Show/hide data repr'><svg class='icon xr-icon-database'><use xlink:href='#icon-database'></use></svg></label><div class='xr-array-preview xr-preview'><span>5.0 10.0 10.0 15.0 22.5 25.0 ... 500.0 500.0 500.0 500.0 500.0 500.0</span></div><div class='xr-array-data'><pre>array([  5. ,  10. ,  10. ,  15. ,  22.5,  25. ,  25. ,  25. ,  37.5,\n",
       "        50. ,  50. ,  75. , 100. , 100. , 100. , 100. , 100. , 100. ,\n",
       "       100. , 100. , 100. , 100. , 100. , 175. , 250. , 375. , 500. ,\n",
       "       500. , 500. , 500. , 500. , 500. , 500. , 500. , 500. ])</pre></div></div></li><li class='xr-section-item'><input id='section-d544430b-2b2d-4d35-a5b6-b51f169d8b9b' class='xr-section-summary-in' type='checkbox'  checked><label for='section-d544430b-2b2d-4d35-a5b6-b51f169d8b9b' class='xr-section-summary' >Coordinates: <span>(1)</span></label><div class='xr-section-inline-details'></div><div class='xr-section-details'><ul class='xr-var-list'><li class='xr-var-item'><div class='xr-var-name'><span class='xr-has-index'>z_l</span></div><div class='xr-var-dims'>(z_l)</div><div class='xr-var-dtype'>float64</div><div class='xr-var-preview xr-preview'>2.5 10.0 20.0 ... 6e+03 6.5e+03</div><input id='attrs-462bf118-ebec-411c-a4d5-e1f2e7cae507' class='xr-var-attrs-in' type='checkbox' disabled><label for='attrs-462bf118-ebec-411c-a4d5-e1f2e7cae507' title='Show/Hide attributes'><svg class='icon xr-icon-file-text2'><use xlink:href='#icon-file-text2'></use></svg></label><input id='data-95bf4bee-51ab-41b7-bad7-da3d81216e02' class='xr-var-data-in' type='checkbox'><label for='data-95bf4bee-51ab-41b7-bad7-da3d81216e02' title='Show/Hide data repr'><svg class='icon xr-icon-database'><use xlink:href='#icon-database'></use></svg></label><div class='xr-var-attrs'><dl class='xr-attrs'></dl></div><div class='xr-var-data'><pre>array([2.5000e+00, 1.0000e+01, 2.0000e+01, 3.2500e+01, 5.1250e+01, 7.5000e+01,\n",
       "       1.0000e+02, 1.2500e+02, 1.5625e+02, 2.0000e+02, 2.5000e+02, 3.1250e+02,\n",
       "       4.0000e+02, 5.0000e+02, 6.0000e+02, 7.0000e+02, 8.0000e+02, 9.0000e+02,\n",
       "       1.0000e+03, 1.1000e+03, 1.2000e+03, 1.3000e+03, 1.4000e+03, 1.5375e+03,\n",
       "       1.7500e+03, 2.0625e+03, 2.5000e+03, 3.0000e+03, 3.5000e+03, 4.0000e+03,\n",
       "       4.5000e+03, 5.0000e+03, 5.5000e+03, 6.0000e+03, 6.5000e+03])</pre></div></li></ul></div></li><li class='xr-section-item'><input id='section-84943322-9e71-43b5-bc52-eef7b6945989' class='xr-section-summary-in' type='checkbox'  checked><label for='section-84943322-9e71-43b5-bc52-eef7b6945989' class='xr-section-summary' >Attributes: <span>(2)</span></label><div class='xr-section-inline-details'></div><div class='xr-section-details'><dl class='xr-attrs'><dt><span>long_name :</span></dt><dd>Thickness of depth bin</dd><dt><span>units :</span></dt><dd>meters</dd></dl></div></li></ul></div></div>"
      ],
      "text/plain": [
       "<xarray.DataArray 'depth_levels' (z_l: 35)>\n",
       "array([  5. ,  10. ,  10. ,  15. ,  22.5,  25. ,  25. ,  25. ,  37.5,\n",
       "        50. ,  50. ,  75. , 100. , 100. , 100. , 100. , 100. , 100. ,\n",
       "       100. , 100. , 100. , 100. , 100. , 175. , 250. , 375. , 500. ,\n",
       "       500. , 500. , 500. , 500. , 500. , 500. , 500. , 500. ])\n",
       "Coordinates:\n",
       "  * z_l      (z_l) float64 2.5 10.0 20.0 32.5 ... 5e+03 5.5e+03 6e+03 6.5e+03\n",
       "Attributes:\n",
       "    long_name:  Thickness of depth bin\n",
       "    units:      meters"
      ]
     },
     "execution_count": 119,
     "metadata": {},
     "output_type": "execute_result"
    }
   ],
   "source": [
    "ds['depth_levels']=xr.DataArray(ds.z_i.diff(dim='z_i').values, coords={'z_l':ds.z_l.values}, dims=['z_l'], attrs={'long_name':'Thickness of depth bin', 'units':'meters'})\n",
    "ds.depth_levels"
   ]
  },
  {
   "cell_type": "code",
   "execution_count": 120,
   "metadata": {},
   "outputs": [],
   "source": [
    "from pywaffle import Waffle\n",
    "import seaborn as sns"
   ]
  },
  {
   "cell_type": "code",
   "execution_count": 121,
   "metadata": {},
   "outputs": [
    {
     "data": {
      "text/plain": [
       "[(0.12156862745098039, 0.4666666666666667, 0.7058823529411765),\n",
       " (1.0, 0.4980392156862745, 0.054901960784313725),\n",
       " (0.17254901960784313, 0.6274509803921569, 0.17254901960784313),\n",
       " (0.8392156862745098, 0.15294117647058825, 0.1568627450980392),\n",
       " (0.5803921568627451, 0.403921568627451, 0.7411764705882353),\n",
       " (0.5490196078431373, 0.33725490196078434, 0.29411764705882354),\n",
       " (0.8901960784313725, 0.4666666666666667, 0.7607843137254902),\n",
       " (0.4980392156862745, 0.4980392156862745, 0.4980392156862745),\n",
       " (0.7372549019607844, 0.7411764705882353, 0.13333333333333333),\n",
       " (0.09019607843137255, 0.7450980392156863, 0.8117647058823529)]"
      ]
     },
     "execution_count": 121,
     "metadata": {},
     "output_type": "execute_result"
    }
   ],
   "source": [
    "sns.color_palette()"
   ]
  },
  {
   "cell_type": "code",
   "execution_count": 122,
   "metadata": {},
   "outputs": [],
   "source": [
    "colors=['#fff7bc', #bact\n",
    "        '#fdbe85', #smz \n",
    "        '#fd8d3c', #mdz\n",
    "        '#d94701', #lgz\n",
    "        '#9ecae1', #smt\n",
    "        '#3182bd', #lgt\n",
    "        '#8856a7',# hp\n",
    "        '#a1d99b', # smp\n",
    "        '#31a354', # lgp\n",
    "        '#636363'] "
   ]
  },
  {
   "cell_type": "code",
   "execution_count": 123,
   "metadata": {},
   "outputs": [
    {
     "data": {
      "text/plain": [
       "['#fff7bc',\n",
       " '#fdbe85',\n",
       " '#fd8d3c',\n",
       " '#d94701',\n",
       " '#9ecae1',\n",
       " '#3182bd',\n",
       " '#8856a7',\n",
       " '#a1d99b',\n",
       " '#31a354',\n",
       " '#636363']"
      ]
     },
     "execution_count": 123,
     "metadata": {},
     "output_type": "execute_result"
    }
   ],
   "source": [
    "colors"
   ]
  },
  {
   "cell_type": "code",
   "execution_count": 124,
   "metadata": {},
   "outputs": [
    {
     "name": "stdout",
     "output_type": "stream",
     "text": [
      "{'Microzooplankton': 371.08942639202303, 'Small mesozooplankton': 132.52662757687295, 'Large mesozooplankton': 33.86766396489728, 'Small tunicates': 0.0, 'Large tunicates': 0.0}\n"
     ]
    }
   ],
   "source": [
    "#buptake100 = (ds.juptake_ldon_nbact_100 * grid.areacello).sum(dim=['xh','yh']).mean(dim='time') * seconds_per_year * cobalt_c_2_n * carbon_molar_mass\n",
    "smzingest100 = (ds.jingest_n_nsmz_100 * grid.areacello).sum(dim=['xh','yh']).mean(dim='time') * seconds_per_year * cobalt_n_2_c * carbon_molar_mass\n",
    "mdzingest100 = (ds.jingest_n_nmdz_100 * grid.areacello).sum(dim=['xh','yh']).mean(dim='time') * seconds_per_year * cobalt_n_2_c * carbon_molar_mass\n",
    "lgzingest100 = (ds.jingest_n_nlgz_100 * grid.areacello).sum(dim=['xh','yh']).mean(dim='time') * seconds_per_year * cobalt_n_2_c * carbon_molar_mass\n",
    "smtingest100 = (ds.jingest_n_nsmt_100 * grid.areacello).sum(dim=['xh','yh']).mean(dim='time') * seconds_per_year * cobalt_n_2_c * carbon_molar_mass\n",
    "lgtingest100 = (ds.jingest_n_nlgt_100 * grid.areacello).sum(dim=['xh','yh']).mean(dim='time') * seconds_per_year * cobalt_n_2_c * carbon_molar_mass\n",
    "\n",
    "divisor=1e14\n",
    "ingest_data={\n",
    "     'Microzooplankton': smzingest100.values/divisor,\n",
    "     'Small mesozooplankton': mdzingest100.values/divisor,\n",
    "     'Large mesozooplankton': lgzingest100.values/divisor,\n",
    "     'Small tunicates': smtingest100.values/divisor,\n",
    "     'Large tunicates': lgtingest100.values/divisor}\n",
    "\n",
    "print(ingest_data)"
   ]
  },
  {
   "cell_type": "code",
   "execution_count": 125,
   "metadata": {},
   "outputs": [],
   "source": [
    "def func(pct, allvals):\n",
    "    absolute=pct/100.*np.sum(allvals)/10.\n",
    "    return(\"{:.1f} Pg C/y\\n({:.1f}%)\".format(absolute,pct))"
   ]
  },
  {
   "cell_type": "code",
   "execution_count": 126,
   "metadata": {},
   "outputs": [
    {
     "data": {
      "image/png": "[encoded data removed]",
      "text/plain": [
       "<Figure size 720x432 with 1 Axes>"
      ]
     },
     "metadata": {},
     "output_type": "display_data"
    }
   ],
   "source": [
    "fig, ax = plt.subplots(figsize=(10, 6), subplot_kw=dict(aspect=\"equal\"))\n",
    "\n",
    "data=[v for v in ingest_data.values()]\n",
    "labels=[\"{:s} \\n {:.1f} Pg C/y\".format(k,v/10.) for k,v in ingest_data.items()]\n",
    "wedges, texts = ax.pie(data, wedgeprops=dict(width=0.5), startangle=0, colors=colors[1:])#sns.color_palette()[1:])\n",
    "\n",
    "bbox_props = dict(boxstyle=\"square,pad=0.3\", fc=\"w\", ec=\"k\", lw=0.72)\n",
    "kw = dict(arrowprops=dict(arrowstyle=\"-\"),\n",
    "          bbox=bbox_props, zorder=0, va=\"center\", size='large')\n",
    "\n",
    "for i, p in enumerate(wedges):\n",
    "    ang = (p.theta2 - p.theta1)/2. + p.theta1\n",
    "    y = np.sin(np.deg2rad(ang))\n",
    "    x = np.cos(np.deg2rad(ang))\n",
    "    horizontalalignment = {-1: \"right\", 1: \"left\"}[int(np.sign(x))]\n",
    "    connectionstyle = \"angle,angleA=0,angleB={}\".format(ang)\n",
    "    kw[\"arrowprops\"].update({\"connectionstyle\": connectionstyle})\n",
    "    ax.annotate(labels[i], xy=(x, y), xytext=(1.2*np.sign(x), 1.25*y),\n",
    "                horizontalalignment=horizontalalignment, **kw)\n",
    "\n",
    "#ax.set_title(\"Production\")\n",
    "\n",
    "#plt.savefig('plots/'+short_casename+'_'+pp_dates+'_heterotrophic_ingestion.png', dpi=150, bbox_inches='tight')"
   ]
  },
  {
   "cell_type": "markdown",
   "metadata": {},
   "source": [
    "### Production Data"
   ]
  },
  {
   "cell_type": "code",
   "execution_count": 127,
   "metadata": {},
   "outputs": [
    {
     "name": "stdout",
     "output_type": "stream",
     "text": [
      "{'Microzooplankton': 84.78592396689407, 'Small mesozooplankton': 36.09673588539392, 'Large mesozooplankton': 9.28742788562944, 'Small tunicates': -2.9263002e-07, 'Large tunicates': -9.5509832e-07}\n"
     ]
    }
   ],
   "source": [
    "#bprod100 = (ds.jprod_nbact_100 * grid.areacello).sum(dim=['xh','yh']).mean(dim='time') * seconds_per_year * cobalt_n_2_c * carbon_molar_mass\n",
    "smzprod100 = (ds.jprod_nsmz_100 * grid.areacello).sum(dim=['xh','yh']).mean(dim='time') * seconds_per_year * cobalt_n_2_c * carbon_molar_mass\n",
    "mdzprod100 = (ds.jprod_nmdz_100 * grid.areacello).sum(dim=['xh','yh']).mean(dim='time') * seconds_per_year * cobalt_n_2_c * carbon_molar_mass\n",
    "lgzprod100 = (ds.jprod_nlgz_100 * grid.areacello).sum(dim=['xh','yh']).mean(dim='time') * seconds_per_year * cobalt_n_2_c * carbon_molar_mass\n",
    "smtprod100 = (ds.jprod_nsmt_100 * grid.areacello).sum(dim=['xh','yh']).mean(dim='time') * seconds_per_year * cobalt_n_2_c * carbon_molar_mass\n",
    "lgtprod100 = (ds.jprod_nlgt_100 * grid.areacello).sum(dim=['xh','yh']).mean(dim='time') * seconds_per_year * cobalt_n_2_c * carbon_molar_mass\n",
    "\n",
    "divisor=1e14\n",
    "zprod_data={'Microzooplankton': smzprod100.values/divisor,\n",
    "     'Small mesozooplankton': mdzprod100.values/divisor,\n",
    "     'Large mesozooplankton': lgzprod100.values/divisor,\n",
    "     'Small tunicates': smtprod100.values/divisor,\n",
    "     'Large tunicates': lgtprod100.values/divisor}\n",
    "\n",
    "print(zprod_data)"
   ]
  },
  {
   "cell_type": "code",
   "execution_count": 128,
   "metadata": {},
   "outputs": [
    {
     "data": {
      "image/png": "[encoded data removed]",
      "text/plain": [
       "<Figure size 720x432 with 1 Axes>"
      ]
     },
     "metadata": {},
     "output_type": "display_data"
    }
   ],
   "source": [
    "fig, ax = plt.subplots(figsize=(10, 6), subplot_kw=dict(aspect=\"equal\"))\n",
    "\n",
    "data=[v for v in zprod_data.values()]\n",
    "labels=[\"{:s} \\n {:.1f} Pg C/y\".format(k,v/10.) for k,v in zprod_data.items()]\n",
    "wedges, texts = ax.pie(data, wedgeprops=dict(width=0.5), startangle=0, colors=colors[1:])\n",
    "\n",
    "bbox_props = dict(boxstyle=\"square,pad=0.3\", fc=\"w\", ec=\"k\", lw=0.72)\n",
    "kw = dict(arrowprops=dict(arrowstyle=\"-\"),\n",
    "          bbox=bbox_props, zorder=0, va=\"center\")\n",
    "\n",
    "for i, p in enumerate(wedges):\n",
    "    ang = (p.theta2 - p.theta1)/2. + p.theta1\n",
    "    y = np.sin(np.deg2rad(ang))\n",
    "    x = np.cos(np.deg2rad(ang))\n",
    "    horizontalalignment = {-1: \"right\", 1: \"left\"}[int(np.sign(x))]\n",
    "    connectionstyle = \"angle,angleA=0,angleB={}\".format(ang)\n",
    "    kw[\"arrowprops\"].update({\"connectionstyle\": connectionstyle})\n",
    "    ax.annotate(labels[i], xy=(x, y), xytext=(1.2*np.sign(x), 1.25*y),\n",
    "                horizontalalignment=horizontalalignment, **kw)\n",
    "\n",
    "#ax.set_title(\"Production\")\n",
    "\n",
    "#plt.savefig('plots/'+short_casename+'_'+pp_dates+'_heterotrophic_prod.png', dpi=150, bbox_inches='tight')"
   ]
  },
  {
   "cell_type": "markdown",
   "metadata": {},
   "source": [
    "### Remineralization"
   ]
  },
  {
   "cell_type": "code",
   "execution_count": 129,
   "metadata": {},
   "outputs": [
    {
     "name": "stdout",
     "output_type": "stream",
     "text": [
      "{'Bacteria': 176.8939403922637, 'Microzooplankton': 174.00132286808065, 'Small mesozooplankton': 56.28249161859072, 'Large mesozooplankton': 14.16270297694208, 'Small tunicates': 0.0, 'Large tunicates': 0.0}\n"
     ]
    }
   ],
   "source": [
    "bremin100 = (ds.jremin_n_nbact_100 * grid.areacello).sum(dim=['xh','yh']).mean(dim='time') * seconds_per_year * cobalt_n_2_c * carbon_molar_mass\n",
    "smzremin100 = (ds.jremin_n_nsmz_100 * grid.areacello).sum(dim=['xh','yh']).mean(dim='time') * seconds_per_year * cobalt_n_2_c * carbon_molar_mass\n",
    "mdzremin100 = (ds.jremin_n_nmdz_100 * grid.areacello).sum(dim=['xh','yh']).mean(dim='time') * seconds_per_year * cobalt_n_2_c * carbon_molar_mass\n",
    "lgzremin100 = (ds.jremin_n_nlgz_100 * grid.areacello).sum(dim=['xh','yh']).mean(dim='time') * seconds_per_year * cobalt_n_2_c * carbon_molar_mass\n",
    "smtremin100 = (ds.jremin_n_nsmt_100 * grid.areacello).sum(dim=['xh','yh']).mean(dim='time') * seconds_per_year * cobalt_n_2_c * carbon_molar_mass\n",
    "lgtremin100 = (ds.jremin_n_nlgt_100 * grid.areacello).sum(dim=['xh','yh']).mean(dim='time') * seconds_per_year * cobalt_n_2_c * carbon_molar_mass\n",
    "\n",
    "divisor=1e14\n",
    "remin_data={'Bacteria': bremin100.values/divisor,\n",
    "     'Microzooplankton': smzremin100.values/divisor,\n",
    "     'Small mesozooplankton': mdzremin100.values/divisor,\n",
    "     'Large mesozooplankton': lgzremin100.values/divisor,\n",
    "     'Small tunicates': smtremin100.values/divisor,\n",
    "     'Large tunicates': lgtremin100.values/divisor}\n",
    "\n",
    "print(remin_data)"
   ]
  },
  {
   "cell_type": "code",
   "execution_count": 130,
   "metadata": {},
   "outputs": [
    {
     "data": {
      "image/png": "[encoded data removed]",
      "text/plain": [
       "<Figure size 720x432 with 1 Axes>"
      ]
     },
     "metadata": {},
     "output_type": "display_data"
    }
   ],
   "source": [
    "fig, ax = plt.subplots(figsize=(10, 6), subplot_kw=dict(aspect=\"equal\"))\n",
    "\n",
    "data=[v for v in remin_data.values()]\n",
    "labels=[\"{:s} \\n {:.1f} Pg C/y\".format(k,v/10.) for k,v in remin_data.items()]\n",
    "wedges, texts = ax.pie(data, wedgeprops=dict(width=0.5), startangle=0, colors=colors)\n",
    "\n",
    "bbox_props = dict(boxstyle=\"square,pad=0.3\", fc=\"w\", ec=\"k\", lw=0.72)\n",
    "kw = dict(arrowprops=dict(arrowstyle=\"-\"),\n",
    "          bbox=bbox_props, zorder=0, va=\"center\")\n",
    "\n",
    "for i, p in enumerate(wedges):\n",
    "    ang = (p.theta2 - p.theta1)/2. + p.theta1\n",
    "    y = np.sin(np.deg2rad(ang))\n",
    "    x = np.cos(np.deg2rad(ang))\n",
    "    horizontalalignment = {-1: \"right\", 1: \"left\"}[int(np.sign(x))]\n",
    "    connectionstyle = \"angle,angleA=0,angleB={}\".format(ang)\n",
    "    kw[\"arrowprops\"].update({\"connectionstyle\": connectionstyle})\n",
    "    ax.annotate(labels[i], xy=(x, y), xytext=(1.2*np.sign(x), 1.25*y),\n",
    "                horizontalalignment=horizontalalignment, **kw)\n",
    "\n",
    "#ax.set_title(\"Production\")\n",
    "\n",
    "#plt.savefig('plots/'+short_casename+'_'+pp_dates+'_heterotrophic_respiration.png', dpi=150, bbox_inches='tight')"
   ]
  },
  {
   "cell_type": "markdown",
   "metadata": {},
   "source": [
    "### DOC prod"
   ]
  },
  {
   "cell_type": "code",
   "execution_count": 131,
   "metadata": {},
   "outputs": [
    {
     "name": "stdout",
     "output_type": "stream",
     "text": [
      "{'Microzooplankton': 92.77235659800576, 'Small mesozooplankton': 13.25266383142912, 'Small tunicates': 0.0, 'Large tunicates': 0.0}\n"
     ]
    }
   ],
   "source": [
    "smzremin100 = (ds.jprod_don_nsmz_100 * grid.areacello).sum(dim=['xh','yh']).mean(dim='time') * seconds_per_year * cobalt_n_2_c * carbon_molar_mass\n",
    "mdzremin100 = (ds.jprod_don_nmdz_100 * grid.areacello).sum(dim=['xh','yh']).mean(dim='time') * seconds_per_year * cobalt_n_2_c * carbon_molar_mass\n",
    "smtremin100 = (ds.jprod_don_nsmt_100 * grid.areacello).sum(dim=['xh','yh']).mean(dim='time') * seconds_per_year * cobalt_n_2_c * carbon_molar_mass\n",
    "lgtremin100 = (ds.jprod_don_nlgt_100 * grid.areacello).sum(dim=['xh','yh']).mean(dim='time') * seconds_per_year * cobalt_n_2_c * carbon_molar_mass\n",
    "\n",
    "divisor=1e14\n",
    "donprod_data={\n",
    "     'Microzooplankton': smzremin100.values/divisor,\n",
    "     'Small mesozooplankton': mdzremin100.values/divisor,\n",
    "     'Small tunicates': smtremin100.values/divisor,\n",
    "     'Large tunicates': lgtremin100.values/divisor}\n",
    "\n",
    "print(donprod_data)\n"
   ]
  },
  {
   "cell_type": "code",
   "execution_count": 132,
   "metadata": {},
   "outputs": [],
   "source": [
    "idx=[1,2,4,5]\n",
    "idx=[1,2]"
   ]
  },
  {
   "cell_type": "code",
   "execution_count": 133,
   "metadata": {},
   "outputs": [],
   "source": [
    "# fig, ax = plt.subplots(figsize=(10, 6), subplot_kw=dict(aspect=\"equal\"))\n",
    "\n",
    "# data=[v for v in donprod_data.values()]\n",
    "# labels=[\"{:s} \\n {:.1f} Pg C/y\".format(k,v/10.) for k,v in donprod_data.items()]\n",
    "# wedges, texts = ax.pie(data, wedgeprops=dict(width=0.5), startangle=0, colors=[sns.color_palette()[i] for i in idx])\n",
    "\n",
    "# bbox_props = dict(boxstyle=\"square,pad=0.3\", fc=\"w\", ec=\"k\", lw=0.72)\n",
    "# kw = dict(arrowprops=dict(arrowstyle=\"-\"),\n",
    "#           bbox=bbox_props, zorder=0, va=\"center\")\n",
    "\n",
    "# for i, p in enumerate(wedges):\n",
    "#     ang = (p.theta2 - p.theta1)/2. + p.theta1\n",
    "#     y = np.sin(np.deg2rad(ang))\n",
    "#     x = np.cos(np.deg2rad(ang))\n",
    "#     horizontalalignment = {-1: \"right\", 1: \"left\"}[int(np.sign(x))]\n",
    "#     connectionstyle = \"angle,angleA=0,angleB={}\".format(ang)\n",
    "#     kw[\"arrowprops\"].update({\"connectionstyle\": connectionstyle})\n",
    "#     ax.annotate(labels[i], xy=(x, y), xytext=(1.2*np.sign(x), 1.25*y),\n",
    "#                 horizontalalignment=horizontalalignment, **kw)\n",
    "\n",
    "# #ax.set_title(\"Production\")\n",
    "\n",
    "# #plt.savefig('plots/'+short_casename+'_'+pp_dates+'_don_prod.png', dpi=150, bbox_inches='tight')"
   ]
  },
  {
   "cell_type": "markdown",
   "metadata": {},
   "source": [
    "### Detritus"
   ]
  },
  {
   "cell_type": "code",
   "execution_count": 134,
   "metadata": {},
   "outputs": [
    {
     "name": "stdout",
     "output_type": "stream",
     "text": [
      "{'Microzoo': 1.952983503863808, 'Sm mesozoo': 2.689473892581376, 'Lg mesozoo': 1.041752572035072, 'Sm tunicate': 2.9263002e-08, 'Lg tunicate': 9.5509832e-08, 'HTL pred': 0.838254605631488, 'Sm phyto': 0.377491017433088, 'Lg phyto': 1.773873301291008}\n"
     ]
    }
   ],
   "source": [
    "bdetprod100 = 0\n",
    "smzdetprod100 = (ds.jprod_ndet_nsmz_100 * grid.areacello).sum(dim=['xh','yh']).mean(dim='time') * seconds_per_year * cobalt_n_2_c * carbon_molar_mass\n",
    "mdzdetprod100 = (ds.jprod_ndet_nmdz_100 * grid.areacello).sum(dim=['xh','yh']).mean(dim='time') * seconds_per_year * cobalt_n_2_c * carbon_molar_mass\n",
    "lgzdetprod100 = (ds.jprod_ndet_nlgz_100 * grid.areacello).sum(dim=['xh','yh']).mean(dim='time') * seconds_per_year * cobalt_n_2_c * carbon_molar_mass\n",
    "smtdetprod100 = (ds.jprod_ndet_nsmt_100 * grid.areacello).sum(dim=['xh','yh']).mean(dim='time') * seconds_per_year * cobalt_n_2_c * carbon_molar_mass\n",
    "lgtdetprod100 = (ds.jprod_ndet_nlgt_100 * grid.areacello).sum(dim=['xh','yh']).mean(dim='time') * seconds_per_year * cobalt_n_2_c * carbon_molar_mass\n",
    "hpdetprod100 = (ds.jprod_ndet_hp_100 * grid.areacello).sum(dim=['xh','yh']).mean(dim='time') * seconds_per_year * cobalt_n_2_c * carbon_molar_mass\n",
    "agglosssmp100 = (ds.jaggloss_nsmp_100 * grid.areacello).sum(dim=['xh','yh']).mean(dim='time') * seconds_per_year * cobalt_n_2_c * carbon_molar_mass\n",
    "agglosslgp100 = (ds.jaggloss_nlgp_100 * grid.areacello).sum(dim=['xh','yh']).mean(dim='time') * seconds_per_year * cobalt_n_2_c * carbon_molar_mass\n",
    "\n",
    "\n",
    "divisor=1e15\n",
    "zdetprod_data={'Microzoo': smzdetprod100.values/divisor,\n",
    "              'Sm mesozoo': mdzdetprod100.values/divisor,\n",
    "              'Lg mesozoo': lgzdetprod100.values/divisor,\n",
    "              'Sm tunicate': smtdetprod100.values/divisor,\n",
    "              'Lg tunicate': lgtdetprod100.values/divisor,\n",
    "              'HTL pred': hpdetprod100.values/divisor,\n",
    "              'Sm phyto':agglosssmp100.values/divisor,\n",
    "              'Lg phyto':agglosslgp100.values/divisor}\n",
    "\n",
    "print(zdetprod_data)"
   ]
  },
  {
   "cell_type": "code",
   "execution_count": 135,
   "metadata": {},
   "outputs": [
    {
     "data": {
      "text/plain": [
       "8.673829017608675"
      ]
     },
     "execution_count": 135,
     "metadata": {},
     "output_type": "execute_result"
    }
   ],
   "source": [
    "np.sum([k for k in zdetprod_data.values()])"
   ]
  },
  {
   "cell_type": "code",
   "execution_count": 136,
   "metadata": {},
   "outputs": [],
   "source": [
    "idx=[1,2,3,4,5,6,7,8]"
   ]
  },
  {
   "cell_type": "code",
   "execution_count": 137,
   "metadata": {},
   "outputs": [
    {
     "data": {
      "image/png": "[encoded data removed]",
      "text/plain": [
       "<Figure size 720x432 with 1 Axes>"
      ]
     },
     "metadata": {},
     "output_type": "display_data"
    }
   ],
   "source": [
    "fig, ax = plt.subplots(figsize=(10, 6), subplot_kw=dict(aspect=\"equal\"))\n",
    "\n",
    "data=[v for v in zdetprod_data.values()]\n",
    "labels=[\"{:s} \\n {:.1f}\".format(k,v) for k,v in zdetprod_data.items()]\n",
    "wedges, texts = ax.pie(data, wedgeprops=dict(width=0.5), startangle=135, colors=[colors[i] for i in idx])#[2:]\n",
    "\n",
    "bbox_props = dict(boxstyle=\"square,pad=0.3\", fc=\"w\", ec=\"k\", lw=0.72)\n",
    "kw = dict(arrowprops=dict(arrowstyle=\"-\"),\n",
    "          bbox=bbox_props, zorder=0, va=\"center\", size='large')\n",
    "\n",
    "for i, p in enumerate(wedges):\n",
    "    ang = (p.theta2 - p.theta1)/2. + p.theta1\n",
    "    y = np.sin(np.deg2rad(ang))\n",
    "    x = np.cos(np.deg2rad(ang))\n",
    "    horizontalalignment = {-1: \"right\", 1: \"left\"}[int(np.sign(x))]\n",
    "    connectionstyle = \"angle,angleA=0,angleB={}\".format(ang)\n",
    "    kw[\"arrowprops\"].update({\"connectionstyle\": connectionstyle})\n",
    "    ax.annotate(labels[i], xy=(x, y), xytext=(1.2*np.sign(x), 1.2*y),\n",
    "                horizontalalignment=horizontalalignment, **kw)\n",
    "\n",
    "#ax.set_title(\"Production\")\n",
    "\n",
    "plt.savefig('plots/'+fig_casename+'_'+pp_dates+'_detritus_production.png', dpi=150, bbox_inches='tight')\n",
    "plt.savefig('plots/'+fig_casename+'_'+pp_dates+'_detritus_production.pdf', dpi=150, bbox_inches='tight')"
   ]
  },
  {
   "cell_type": "markdown",
   "metadata": {},
   "source": [
    "### Primary Production"
   ]
  },
  {
   "cell_type": "code",
   "execution_count": 138,
   "metadata": {},
   "outputs": [
    {
     "name": "stdout",
     "output_type": "stream",
     "text": [
      "{'Diazotrophs': 2.410567172096, 'Small Phytoplankton': 447.7289516708659, 'Large Phytoplankton': 102.47300194500608}\n"
     ]
    }
   ],
   "source": [
    "diazprod100 = (ds.jprod_ndi_100 * grid.areacello).sum(dim=['xh','yh']).mean(dim='time') * seconds_per_year * cobalt_n_2_c * carbon_molar_mass\n",
    "smpprod100 = (ds.jprod_nsmp_100 * grid.areacello).sum(dim=['xh','yh']).mean(dim='time') * seconds_per_year * cobalt_n_2_c * carbon_molar_mass\n",
    "lgpprod100 = (ds.jprod_nlgp_100 * grid.areacello).sum(dim=['xh','yh']).mean(dim='time') * seconds_per_year * cobalt_n_2_c * carbon_molar_mass\n",
    "\n",
    "divisor=1e14\n",
    "pprod_data={'Diazotrophs': diazprod100.values/divisor,\n",
    "     'Small Phytoplankton': smpprod100.values/divisor,\n",
    "     'Large Phytoplankton': lgpprod100.values/divisor}\n",
    "\n",
    "print(pprod_data)"
   ]
  },
  {
   "cell_type": "code",
   "execution_count": 139,
   "metadata": {},
   "outputs": [],
   "source": [
    "idx=[9,7,8]"
   ]
  },
  {
   "cell_type": "code",
   "execution_count": 140,
   "metadata": {},
   "outputs": [
    {
     "data": {
      "image/png": "[encoded data removed]",
      "text/plain": [
       "<Waffle size 1080x720 with 1 Axes>"
      ]
     },
     "metadata": {},
     "output_type": "display_data"
    }
   ],
   "source": [
    "fig = plt.figure(\n",
    "    FigureClass=Waffle, \n",
    "    figsize=(15,10),\n",
    "    rows=10,\n",
    "    values=pprod_data, \n",
    "    colors=[colors[i] for i in idx],\n",
    "    title={'label': 'Autotrophic Production', 'loc': 'left'},\n",
    "    labels=[\"{0} ({1} Pg C/yr)\".format(k, np.round(v/10,2)) for k, v in pprod_data.items()],\n",
    "    legend={'loc': 'upper left', 'bbox_to_anchor': (1.03,1), 'framealpha': 0, 'fontsize':12}\n",
    ")\n",
    "fig.gca().set_facecolor('#EEEEEE')\n",
    "fig.set_facecolor('#EEEEEE')"
   ]
  },
  {
   "cell_type": "code",
   "execution_count": 141,
   "metadata": {},
   "outputs": [
    {
     "data": {
      "image/png": "[encoded data removed]",
      "text/plain": [
       "<Figure size 720x432 with 1 Axes>"
      ]
     },
     "metadata": {},
     "output_type": "display_data"
    }
   ],
   "source": [
    "fig, ax = plt.subplots(figsize=(10, 6), subplot_kw=dict(aspect=\"equal\"))\n",
    "\n",
    "data=[v for v in pprod_data.values()]\n",
    "#labels=[k for k in pprod_data.keys()]\n",
    "labels=[\"{:s} \\n {:.1f} Pg C/y\".format(k,v/10.) for k,v in pprod_data.items()]\n",
    "wedges, texts = ax.pie(data, wedgeprops=dict(width=0.5), startangle=0, colors=colors[6:])\n",
    "\n",
    "bbox_props = dict(boxstyle=\"square,pad=0.3\", fc=\"w\", ec=\"k\", lw=0.72)\n",
    "kw = dict(arrowprops=dict(arrowstyle=\"-\"),\n",
    "          bbox=bbox_props, zorder=0, va=\"center\")\n",
    "\n",
    "for i, p in enumerate(wedges):\n",
    "    ang = (p.theta2 - p.theta1)/2. + p.theta1\n",
    "    y = np.sin(np.deg2rad(ang))\n",
    "    x = np.cos(np.deg2rad(ang))\n",
    "    horizontalalignment = {-1: \"right\", 1: \"left\"}[int(np.sign(x))]\n",
    "    connectionstyle = \"angle,angleA=0,angleB={}\".format(ang)\n",
    "    kw[\"arrowprops\"].update({\"connectionstyle\": connectionstyle})\n",
    "    ax.annotate(labels[i], xy=(x, y), xytext=(1.2*np.sign(x), 1.25*y),\n",
    "                horizontalalignment=horizontalalignment, **kw)\n",
    "\n",
    "#ax.set_title(\"Production\")\n",
    "\n",
    "#plt.savefig('plots/'+short_casename+'_'+pp_dates+'_autotrophic_prod.png', dpi=150, bbox_inches='tight')"
   ]
  },
  {
   "cell_type": "code",
   "execution_count": 142,
   "metadata": {},
   "outputs": [
    {
     "name": "stdout",
     "output_type": "stream",
     "text": [
      "{'Sm mesozoo': 1.530063577153536, 'Lg mesozoo': 0.864949773533184, 'Sm tunicate': 0.0, 'Lg tunicate': 0.0}\n"
     ]
    }
   ],
   "source": [
    "hplossmdz100 = (ds.jhploss_nmdz_100 * grid.areacello).sum(dim=['xh','yh']).mean(dim='time') * seconds_per_year * cobalt_n_2_c * carbon_molar_mass\n",
    "hplosslgz100 = (ds.jhploss_nlgz_100 * grid.areacello).sum(dim=['xh','yh']).mean(dim='time') * seconds_per_year * cobalt_n_2_c * carbon_molar_mass\n",
    "hplosssmt100 = (ds.jhploss_nsmt_100 * grid.areacello).sum(dim=['xh','yh']).mean(dim='time') * seconds_per_year * cobalt_n_2_c * carbon_molar_mass\n",
    "hplosslgt100 = (ds.jhploss_nlgt_100 * grid.areacello).sum(dim=['xh','yh']).mean(dim='time') * seconds_per_year * cobalt_n_2_c * carbon_molar_mass\n",
    "\n",
    "divisor=1e15\n",
    "hploss_data={'Sm mesozoo': hplossmdz100.values/divisor,\n",
    "     'Lg mesozoo': hplosslgz100.values/divisor,\n",
    "    'Sm tunicate': hplosssmt100.values/divisor,\n",
    "    'Lg tunicate': hplosslgt100.values/divisor}\n",
    "\n",
    "print(hploss_data)"
   ]
  },
  {
   "cell_type": "code",
   "execution_count": 143,
   "metadata": {},
   "outputs": [],
   "source": [
    "idx=[2,3,4,5]"
   ]
  },
  {
   "cell_type": "code",
   "execution_count": 144,
   "metadata": {},
   "outputs": [
    {
     "data": {
      "image/png": "[encoded data removed]",
      "text/plain": [
       "<Figure size 720x432 with 1 Axes>"
      ]
     },
     "metadata": {},
     "output_type": "display_data"
    }
   ],
   "source": [
    "fig, ax = plt.subplots(figsize=(10, 6), subplot_kw=dict(aspect=\"equal\"))\n",
    "\n",
    "data=[v for v in hploss_data.values()]\n",
    "labels=[\"{:s} \\n {:.1f}\".format(k,v) for k,v in hploss_data.items()]\n",
    "wedges, texts = ax.pie(data, wedgeprops=dict(width=0.5), startangle=135, colors=[colors[i] for i in idx])#[2:]\n",
    "\n",
    "bbox_props = dict(boxstyle=\"square,pad=0.3\", fc=\"w\", ec=\"k\", lw=0.72)\n",
    "kw = dict(arrowprops=dict(arrowstyle=\"-\"),\n",
    "          bbox=bbox_props, zorder=0, va=\"center\", size='large')\n",
    "\n",
    "for i, p in enumerate(wedges):\n",
    "    ang = (p.theta2 - p.theta1)/2. + p.theta1\n",
    "    y = np.sin(np.deg2rad(ang))\n",
    "    x = np.cos(np.deg2rad(ang))\n",
    "    horizontalalignment = {-1: \"right\", 1: \"left\"}[int(np.sign(x))]\n",
    "    connectionstyle = \"angle,angleA=0,angleB={}\".format(ang)\n",
    "    kw[\"arrowprops\"].update({\"connectionstyle\": connectionstyle})\n",
    "    ax.annotate(labels[i], xy=(x, y), xytext=(1.1*np.sign(x), 1.15*y),\n",
    "                horizontalalignment=horizontalalignment, **kw)\n",
    "\n",
    "#ax.set_title(\"Production\")\n",
    "\n",
    "plt.savefig('plots/'+fig_casename+'_'+pp_dates+'_HTL_loss.png', dpi=150, bbox_inches='tight')\n",
    "plt.savefig('plots/'+fig_casename+'_'+pp_dates+'_HTL_loss.pdf', dpi=150, bbox_inches='tight')"
   ]
  },
  {
   "cell_type": "code",
   "execution_count": null,
   "metadata": {},
   "outputs": [],
   "source": []
  }
 ],
 "metadata": {
  "kernelspec": {
   "display_name": "Python 3 (ipykernel)",
   "language": "python",
   "name": "python3"
  },
  "language_info": {
   "codemirror_mode": {
    "name": "ipython",
    "version": 3
   },
   "file_extension": ".py",
   "mimetype": "text/x-python",
   "name": "python",
   "nbconvert_exporter": "python",
   "pygments_lexer": "ipython3",
   "version": "3.7.3"
  }
 },
 "nbformat": 4,
 "nbformat_minor": 2
}
