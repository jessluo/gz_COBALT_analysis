{
 "cells": [
  {
   "cell_type": "code",
   "execution_count": 1,
   "metadata": {},
   "outputs": [],
   "source": [
    "%matplotlib inline\n",
    "\n",
    "import os, subprocess, tarfile\n",
    "from glob import glob\n",
    "import numpy as np\n",
    "import xarray as xr\n",
    "import matplotlib\n",
    "import matplotlib.pyplot as plt\n",
    "import matplotlib.gridspec as gridspec\n",
    "import cartopy.crs as ccrs\n",
    "\n",
    "import warnings\n",
    "warnings.filterwarnings('ignore')\n",
    "\n",
    "seconds_per_day=60.*60.*24.\n",
    "seconds_per_year=365.*seconds_per_day\n",
    "carbon_molar_mass=12.011\n",
    "cobalt_c_2_n = 106./16."
   ]
  },
  {
   "cell_type": "code",
   "execution_count": 2,
   "metadata": {},
   "outputs": [],
   "source": [
    "path_root='/archive/Jessica.Luo/gz_test/MOM6_SIS2_COBALT'\n",
    "\n",
    "#case,machine_target='OM4p5_CORE2_IAF_COBALT_abio_csf_mle200','gfdl.ncrc4-intel16-prod'\n",
    "\n",
    "case,machine_target='OM4p5_CORE2_IAF_gzCOBALT-013022','gfdl.ncrc4-intel19-prod'\n"
   ]
  },
  {
   "cell_type": "code",
   "execution_count": 3,
   "metadata": {},
   "outputs": [
    {
     "data": {
      "text/plain": [
       "'gzCOBALT-121520'"
      ]
     },
     "execution_count": 3,
     "metadata": {},
     "output_type": "execute_result"
    }
   ],
   "source": [
    "short_casename=case.replace('OM4p5_CORE2_IAF_','')\n",
    "short_casename"
   ]
  },
  {
   "cell_type": "code",
   "execution_count": 4,
   "metadata": {},
   "outputs": [],
   "source": [
    "phyto_varlist = ['di', 'smp', 'lgp']\n",
    "zoo_varlist = ['smz', 'mdz', 'lgz']\n",
    "#zoo_varlist = ['smz', 'mdz', 'lgz', 'smt', 'lgt']"
   ]
  },
  {
   "cell_type": "code",
   "execution_count": 5,
   "metadata": {},
   "outputs": [
    {
     "name": "stdout",
     "output_type": "stream",
     "text": [
      "temporary directory exists: /work/Jessica.Luo/tmp/OM4p5_CORE2_IAF_gzCOBALT-121520\n"
     ]
    }
   ],
   "source": [
    "tmpdir = '/work/Jessica.Luo/tmp/'+case\n",
    "if not os.path.exists(tmpdir):\n",
    "    os.mkdir(tmpdir)\n",
    "    print('created directory: '+tmpdir)\n",
    "else:\n",
    "    print('temporary directory exists: '+tmpdir)"
   ]
  },
  {
   "cell_type": "code",
   "execution_count": 6,
   "metadata": {},
   "outputs": [],
   "source": [
    "# read in files\n",
    "diagTypes = ['ocean_cobalt_tracers_int'] \n",
    "var_list = ['tunicate_200']\n",
    "\n",
    "pp_dates='198801-200712'\n",
    "\n",
    "files=[glob(tmpdir + '.'.join(['/ocean_cobalt_tracers_int*',pp_dates,v,'nc'])) for v in var_list]"
   ]
  },
  {
   "cell_type": "code",
   "execution_count": 7,
   "metadata": {},
   "outputs": [],
   "source": [
    "grid_file=tmpdir+'/ocean_static.nc'\n",
    "ds=xr.open_mfdataset(files, combine='by_coords')\n",
    "grid=xr.open_dataset(grid_file)"
   ]
  },
  {
   "cell_type": "code",
   "execution_count": 8,
   "metadata": {},
   "outputs": [],
   "source": [
    "ds = ds.isel(time=slice(108,240))"
   ]
  },
  {
   "cell_type": "code",
   "execution_count": 9,
   "metadata": {},
   "outputs": [],
   "source": [
    "palmerLTER=(ds.tunicate_200 * carbon_molar_mass * 1000).where(grid.geolon <= -64).where(grid.geolon > -73).where(grid.geolat <= -64).where(grid.geolat >= -68)"
   ]
  },
  {
   "cell_type": "code",
   "execution_count": 10,
   "metadata": {},
   "outputs": [],
   "source": [
    "BATS=(ds.tunicate_200 * carbon_molar_mass * 1000).where(grid.geolon <= -62).where(grid.geolon >= -64).where(grid.geolat <= 32).where(grid.geolat >= 30)"
   ]
  },
  {
   "cell_type": "code",
   "execution_count": 11,
   "metadata": {},
   "outputs": [],
   "source": [
    "import pandas as pd\n",
    "palmerdf = palmerLTER.to_dataframe().dropna()\n",
    "batsdf = BATS.to_dataframe().dropna()"
   ]
  },
  {
   "cell_type": "code",
   "execution_count": 12,
   "metadata": {},
   "outputs": [
    {
     "data": {
      "text/html": [
       "<div>\n",
       "<style scoped>\n",
       "    .dataframe tbody tr th:only-of-type {\n",
       "        vertical-align: middle;\n",
       "    }\n",
       "\n",
       "    .dataframe tbody tr th {\n",
       "        vertical-align: top;\n",
       "    }\n",
       "\n",
       "    .dataframe thead th {\n",
       "        text-align: right;\n",
       "    }\n",
       "</style>\n",
       "<table border=\"1\" class=\"dataframe\">\n",
       "  <thead>\n",
       "    <tr style=\"text-align: right;\">\n",
       "      <th></th>\n",
       "      <th></th>\n",
       "      <th></th>\n",
       "      <th>tunicate_200</th>\n",
       "    </tr>\n",
       "    <tr>\n",
       "      <th>time</th>\n",
       "      <th>yh</th>\n",
       "      <th>xh</th>\n",
       "      <th></th>\n",
       "    </tr>\n",
       "  </thead>\n",
       "  <tbody>\n",
       "    <tr>\n",
       "      <th rowspan=\"5\" valign=\"top\">1997-01-16 12:00:00</th>\n",
       "      <th rowspan=\"5\" valign=\"top\">-67.963645</th>\n",
       "      <th>-72.75</th>\n",
       "      <td>87.621750</td>\n",
       "    </tr>\n",
       "    <tr>\n",
       "      <th>-72.25</th>\n",
       "      <td>98.489822</td>\n",
       "    </tr>\n",
       "    <tr>\n",
       "      <th>-71.75</th>\n",
       "      <td>111.664276</td>\n",
       "    </tr>\n",
       "    <tr>\n",
       "      <th>-71.25</th>\n",
       "      <td>123.598907</td>\n",
       "    </tr>\n",
       "    <tr>\n",
       "      <th>-70.75</th>\n",
       "      <td>134.271713</td>\n",
       "    </tr>\n",
       "    <tr>\n",
       "      <th>...</th>\n",
       "      <th>...</th>\n",
       "      <th>...</th>\n",
       "      <td>...</td>\n",
       "    </tr>\n",
       "    <tr>\n",
       "      <th rowspan=\"5\" valign=\"top\">2007-12-16 12:00:00</th>\n",
       "      <th rowspan=\"5\" valign=\"top\">-64.113587</th>\n",
       "      <th>-66.25</th>\n",
       "      <td>14.941740</td>\n",
       "    </tr>\n",
       "    <tr>\n",
       "      <th>-65.75</th>\n",
       "      <td>23.061266</td>\n",
       "    </tr>\n",
       "    <tr>\n",
       "      <th>-65.25</th>\n",
       "      <td>29.488253</td>\n",
       "    </tr>\n",
       "    <tr>\n",
       "      <th>-64.75</th>\n",
       "      <td>29.718527</td>\n",
       "    </tr>\n",
       "    <tr>\n",
       "      <th>-64.25</th>\n",
       "      <td>28.813696</td>\n",
       "    </tr>\n",
       "  </tbody>\n",
       "</table>\n",
       "<p>38148 rows × 1 columns</p>\n",
       "</div>"
      ],
      "text/plain": [
       "                                       tunicate_200\n",
       "time                yh         xh                  \n",
       "1997-01-16 12:00:00 -67.963645 -72.75     87.621750\n",
       "                               -72.25     98.489822\n",
       "                               -71.75    111.664276\n",
       "                               -71.25    123.598907\n",
       "                               -70.75    134.271713\n",
       "...                                             ...\n",
       "2007-12-16 12:00:00 -64.113587 -66.25     14.941740\n",
       "                               -65.75     23.061266\n",
       "                               -65.25     29.488253\n",
       "                               -64.75     29.718527\n",
       "                               -64.25     28.813696\n",
       "\n",
       "[38148 rows x 1 columns]"
      ]
     },
     "execution_count": 12,
     "metadata": {},
     "output_type": "execute_result"
    }
   ],
   "source": [
    "palmerdf"
   ]
  },
  {
   "cell_type": "code",
   "execution_count": 13,
   "metadata": {},
   "outputs": [
    {
     "data": {
      "text/plain": [
       "MultiIndex([(1997-01-16 12:00:00, -67.96364453042091, -72.75),\n",
       "            (1997-01-16 12:00:00, -67.96364453042091, -72.25),\n",
       "            (1997-01-16 12:00:00, -67.96364453042091, -71.75),\n",
       "            (1997-01-16 12:00:00, -67.96364453042091, -71.25),\n",
       "            (1997-01-16 12:00:00, -67.96364453042091, -70.75),\n",
       "            (1997-01-16 12:00:00, -67.96364453042091, -70.25),\n",
       "            (1997-01-16 12:00:00, -67.96364453042091, -69.75),\n",
       "            (1997-01-16 12:00:00, -67.96364453042091, -69.25),\n",
       "            (1997-01-16 12:00:00, -67.96364453042091, -68.75),\n",
       "            (1997-01-16 12:00:00, -67.96364453042091, -68.25),\n",
       "            ...\n",
       "            (2007-12-16 12:00:00, -64.11358687114387, -68.75),\n",
       "            (2007-12-16 12:00:00, -64.11358687114387, -68.25),\n",
       "            (2007-12-16 12:00:00, -64.11358687114387, -67.75),\n",
       "            (2007-12-16 12:00:00, -64.11358687114387, -67.25),\n",
       "            (2007-12-16 12:00:00, -64.11358687114387, -66.75),\n",
       "            (2007-12-16 12:00:00, -64.11358687114387, -66.25),\n",
       "            (2007-12-16 12:00:00, -64.11358687114387, -65.75),\n",
       "            (2007-12-16 12:00:00, -64.11358687114387, -65.25),\n",
       "            (2007-12-16 12:00:00, -64.11358687114387, -64.75),\n",
       "            (2007-12-16 12:00:00, -64.11358687114387, -64.25)],\n",
       "           names=['time', 'yh', 'xh'], length=38148)"
      ]
     },
     "execution_count": 13,
     "metadata": {},
     "output_type": "execute_result"
    }
   ],
   "source": [
    "palmerdf.index"
   ]
  },
  {
   "cell_type": "code",
   "execution_count": 14,
   "metadata": {},
   "outputs": [
    {
     "data": {
      "text/html": [
       "<div>\n",
       "<style scoped>\n",
       "    .dataframe tbody tr th:only-of-type {\n",
       "        vertical-align: middle;\n",
       "    }\n",
       "\n",
       "    .dataframe tbody tr th {\n",
       "        vertical-align: top;\n",
       "    }\n",
       "\n",
       "    .dataframe thead th {\n",
       "        text-align: right;\n",
       "    }\n",
       "</style>\n",
       "<table border=\"1\" class=\"dataframe\">\n",
       "  <thead>\n",
       "    <tr style=\"text-align: right;\">\n",
       "      <th></th>\n",
       "      <th></th>\n",
       "      <th></th>\n",
       "      <th>tunicate_200</th>\n",
       "    </tr>\n",
       "    <tr>\n",
       "      <th>time</th>\n",
       "      <th>yh</th>\n",
       "      <th>xh</th>\n",
       "      <th></th>\n",
       "    </tr>\n",
       "  </thead>\n",
       "  <tbody>\n",
       "    <tr>\n",
       "      <th rowspan=\"5\" valign=\"top\">1997-01-16 12:00:00</th>\n",
       "      <th rowspan=\"4\" valign=\"top\">30.239665</th>\n",
       "      <th>-63.75</th>\n",
       "      <td>13.465969</td>\n",
       "    </tr>\n",
       "    <tr>\n",
       "      <th>-63.25</th>\n",
       "      <td>13.021398</td>\n",
       "    </tr>\n",
       "    <tr>\n",
       "      <th>-62.75</th>\n",
       "      <td>12.656522</td>\n",
       "    </tr>\n",
       "    <tr>\n",
       "      <th>-62.25</th>\n",
       "      <td>13.211735</td>\n",
       "    </tr>\n",
       "    <tr>\n",
       "      <th>30.670676</th>\n",
       "      <th>-63.75</th>\n",
       "      <td>13.247891</td>\n",
       "    </tr>\n",
       "    <tr>\n",
       "      <th>...</th>\n",
       "      <th>...</th>\n",
       "      <th>...</th>\n",
       "      <td>...</td>\n",
       "    </tr>\n",
       "    <tr>\n",
       "      <th rowspan=\"5\" valign=\"top\">2007-12-16 12:00:00</th>\n",
       "      <th>31.526940</th>\n",
       "      <th>-62.25</th>\n",
       "      <td>18.473448</td>\n",
       "    </tr>\n",
       "    <tr>\n",
       "      <th rowspan=\"4\" valign=\"top\">31.952162</th>\n",
       "      <th>-63.75</th>\n",
       "      <td>22.472105</td>\n",
       "    </tr>\n",
       "    <tr>\n",
       "      <th>-63.25</th>\n",
       "      <td>20.406038</td>\n",
       "    </tr>\n",
       "    <tr>\n",
       "      <th>-62.75</th>\n",
       "      <td>19.146345</td>\n",
       "    </tr>\n",
       "    <tr>\n",
       "      <th>-62.25</th>\n",
       "      <td>19.013693</td>\n",
       "    </tr>\n",
       "  </tbody>\n",
       "</table>\n",
       "<p>2640 rows × 1 columns</p>\n",
       "</div>"
      ],
      "text/plain": [
       "                                      tunicate_200\n",
       "time                yh        xh                  \n",
       "1997-01-16 12:00:00 30.239665 -63.75     13.465969\n",
       "                              -63.25     13.021398\n",
       "                              -62.75     12.656522\n",
       "                              -62.25     13.211735\n",
       "                    30.670676 -63.75     13.247891\n",
       "...                                            ...\n",
       "2007-12-16 12:00:00 31.526940 -62.25     18.473448\n",
       "                    31.952162 -63.75     22.472105\n",
       "                              -63.25     20.406038\n",
       "                              -62.75     19.146345\n",
       "                              -62.25     19.013693\n",
       "\n",
       "[2640 rows x 1 columns]"
      ]
     },
     "execution_count": 14,
     "metadata": {},
     "output_type": "execute_result"
    }
   ],
   "source": [
    "batsdf"
   ]
  },
  {
   "cell_type": "code",
   "execution_count": 15,
   "metadata": {},
   "outputs": [
    {
     "data": {
      "text/html": [
       "<div>\n",
       "<style scoped>\n",
       "    .dataframe tbody tr th:only-of-type {\n",
       "        vertical-align: middle;\n",
       "    }\n",
       "\n",
       "    .dataframe tbody tr th {\n",
       "        vertical-align: top;\n",
       "    }\n",
       "\n",
       "    .dataframe thead th {\n",
       "        text-align: right;\n",
       "    }\n",
       "</style>\n",
       "<table border=\"1\" class=\"dataframe\">\n",
       "  <thead>\n",
       "    <tr style=\"text-align: right;\">\n",
       "      <th></th>\n",
       "      <th>yh</th>\n",
       "      <th>xh</th>\n",
       "      <th>tunicate_200</th>\n",
       "    </tr>\n",
       "    <tr>\n",
       "      <th>time</th>\n",
       "      <th></th>\n",
       "      <th></th>\n",
       "      <th></th>\n",
       "    </tr>\n",
       "  </thead>\n",
       "  <tbody>\n",
       "    <tr>\n",
       "      <th>1997-01-16 12:00:00</th>\n",
       "      <td>-67.963645</td>\n",
       "      <td>-72.75</td>\n",
       "      <td>87.621750</td>\n",
       "    </tr>\n",
       "    <tr>\n",
       "      <th>1997-01-16 12:00:00</th>\n",
       "      <td>-67.963645</td>\n",
       "      <td>-72.25</td>\n",
       "      <td>98.489822</td>\n",
       "    </tr>\n",
       "    <tr>\n",
       "      <th>1997-01-16 12:00:00</th>\n",
       "      <td>-67.963645</td>\n",
       "      <td>-71.75</td>\n",
       "      <td>111.664276</td>\n",
       "    </tr>\n",
       "    <tr>\n",
       "      <th>1997-01-16 12:00:00</th>\n",
       "      <td>-67.963645</td>\n",
       "      <td>-71.25</td>\n",
       "      <td>123.598907</td>\n",
       "    </tr>\n",
       "    <tr>\n",
       "      <th>1997-01-16 12:00:00</th>\n",
       "      <td>-67.963645</td>\n",
       "      <td>-70.75</td>\n",
       "      <td>134.271713</td>\n",
       "    </tr>\n",
       "    <tr>\n",
       "      <th>...</th>\n",
       "      <td>...</td>\n",
       "      <td>...</td>\n",
       "      <td>...</td>\n",
       "    </tr>\n",
       "    <tr>\n",
       "      <th>2007-12-16 12:00:00</th>\n",
       "      <td>-64.113587</td>\n",
       "      <td>-66.25</td>\n",
       "      <td>14.941740</td>\n",
       "    </tr>\n",
       "    <tr>\n",
       "      <th>2007-12-16 12:00:00</th>\n",
       "      <td>-64.113587</td>\n",
       "      <td>-65.75</td>\n",
       "      <td>23.061266</td>\n",
       "    </tr>\n",
       "    <tr>\n",
       "      <th>2007-12-16 12:00:00</th>\n",
       "      <td>-64.113587</td>\n",
       "      <td>-65.25</td>\n",
       "      <td>29.488253</td>\n",
       "    </tr>\n",
       "    <tr>\n",
       "      <th>2007-12-16 12:00:00</th>\n",
       "      <td>-64.113587</td>\n",
       "      <td>-64.75</td>\n",
       "      <td>29.718527</td>\n",
       "    </tr>\n",
       "    <tr>\n",
       "      <th>2007-12-16 12:00:00</th>\n",
       "      <td>-64.113587</td>\n",
       "      <td>-64.25</td>\n",
       "      <td>28.813696</td>\n",
       "    </tr>\n",
       "  </tbody>\n",
       "</table>\n",
       "<p>38148 rows × 3 columns</p>\n",
       "</div>"
      ],
      "text/plain": [
       "                            yh     xh  tunicate_200\n",
       "time                                               \n",
       "1997-01-16 12:00:00 -67.963645 -72.75     87.621750\n",
       "1997-01-16 12:00:00 -67.963645 -72.25     98.489822\n",
       "1997-01-16 12:00:00 -67.963645 -71.75    111.664276\n",
       "1997-01-16 12:00:00 -67.963645 -71.25    123.598907\n",
       "1997-01-16 12:00:00 -67.963645 -70.75    134.271713\n",
       "...                        ...    ...           ...\n",
       "2007-12-16 12:00:00 -64.113587 -66.25     14.941740\n",
       "2007-12-16 12:00:00 -64.113587 -65.75     23.061266\n",
       "2007-12-16 12:00:00 -64.113587 -65.25     29.488253\n",
       "2007-12-16 12:00:00 -64.113587 -64.75     29.718527\n",
       "2007-12-16 12:00:00 -64.113587 -64.25     28.813696\n",
       "\n",
       "[38148 rows x 3 columns]"
      ]
     },
     "execution_count": 15,
     "metadata": {},
     "output_type": "execute_result"
    }
   ],
   "source": [
    "palmerdf_pivot=palmerdf.reset_index(['xh','yh'])\n",
    "palmerdf_pivot"
   ]
  },
  {
   "cell_type": "code",
   "execution_count": 16,
   "metadata": {},
   "outputs": [
    {
     "data": {
      "text/plain": [
       "DatetimeIndex(['1997-01-16 12:00:00', '1997-01-16 12:00:00',\n",
       "               '1997-01-16 12:00:00', '1997-01-16 12:00:00',\n",
       "               '1997-01-16 12:00:00', '1997-01-16 12:00:00',\n",
       "               '1997-01-16 12:00:00', '1997-01-16 12:00:00',\n",
       "               '1997-01-16 12:00:00', '1997-01-16 12:00:00',\n",
       "               ...\n",
       "               '2007-12-16 12:00:00', '2007-12-16 12:00:00',\n",
       "               '2007-12-16 12:00:00', '2007-12-16 12:00:00',\n",
       "               '2007-12-16 12:00:00', '2007-12-16 12:00:00',\n",
       "               '2007-12-16 12:00:00', '2007-12-16 12:00:00',\n",
       "               '2007-12-16 12:00:00', '2007-12-16 12:00:00'],\n",
       "              dtype='datetime64[ns]', length=38148, freq=None)"
      ]
     },
     "execution_count": 16,
     "metadata": {},
     "output_type": "execute_result"
    }
   ],
   "source": [
    "palmerdf_pivot.index = palmerdf_pivot.index.to_datetimeindex()\n",
    "palmerdf_pivot.index"
   ]
  },
  {
   "cell_type": "code",
   "execution_count": 17,
   "metadata": {},
   "outputs": [
    {
     "data": {
      "text/html": [
       "<div>\n",
       "<style scoped>\n",
       "    .dataframe tbody tr th:only-of-type {\n",
       "        vertical-align: middle;\n",
       "    }\n",
       "\n",
       "    .dataframe tbody tr th {\n",
       "        vertical-align: top;\n",
       "    }\n",
       "\n",
       "    .dataframe thead th {\n",
       "        text-align: right;\n",
       "    }\n",
       "</style>\n",
       "<table border=\"1\" class=\"dataframe\">\n",
       "  <thead>\n",
       "    <tr style=\"text-align: right;\">\n",
       "      <th></th>\n",
       "      <th>yh</th>\n",
       "      <th>xh</th>\n",
       "      <th>tunicate_200</th>\n",
       "    </tr>\n",
       "    <tr>\n",
       "      <th>time</th>\n",
       "      <th></th>\n",
       "      <th></th>\n",
       "      <th></th>\n",
       "    </tr>\n",
       "  </thead>\n",
       "  <tbody>\n",
       "    <tr>\n",
       "      <th>1997-01-16 12:00:00</th>\n",
       "      <td>30.239665</td>\n",
       "      <td>-63.75</td>\n",
       "      <td>13.465969</td>\n",
       "    </tr>\n",
       "    <tr>\n",
       "      <th>1997-01-16 12:00:00</th>\n",
       "      <td>30.239665</td>\n",
       "      <td>-63.25</td>\n",
       "      <td>13.021398</td>\n",
       "    </tr>\n",
       "    <tr>\n",
       "      <th>1997-01-16 12:00:00</th>\n",
       "      <td>30.239665</td>\n",
       "      <td>-62.75</td>\n",
       "      <td>12.656522</td>\n",
       "    </tr>\n",
       "    <tr>\n",
       "      <th>1997-01-16 12:00:00</th>\n",
       "      <td>30.239665</td>\n",
       "      <td>-62.25</td>\n",
       "      <td>13.211735</td>\n",
       "    </tr>\n",
       "    <tr>\n",
       "      <th>1997-01-16 12:00:00</th>\n",
       "      <td>30.670676</td>\n",
       "      <td>-63.75</td>\n",
       "      <td>13.247891</td>\n",
       "    </tr>\n",
       "    <tr>\n",
       "      <th>...</th>\n",
       "      <td>...</td>\n",
       "      <td>...</td>\n",
       "      <td>...</td>\n",
       "    </tr>\n",
       "    <tr>\n",
       "      <th>2007-12-16 12:00:00</th>\n",
       "      <td>31.526940</td>\n",
       "      <td>-62.25</td>\n",
       "      <td>18.473448</td>\n",
       "    </tr>\n",
       "    <tr>\n",
       "      <th>2007-12-16 12:00:00</th>\n",
       "      <td>31.952162</td>\n",
       "      <td>-63.75</td>\n",
       "      <td>22.472105</td>\n",
       "    </tr>\n",
       "    <tr>\n",
       "      <th>2007-12-16 12:00:00</th>\n",
       "      <td>31.952162</td>\n",
       "      <td>-63.25</td>\n",
       "      <td>20.406038</td>\n",
       "    </tr>\n",
       "    <tr>\n",
       "      <th>2007-12-16 12:00:00</th>\n",
       "      <td>31.952162</td>\n",
       "      <td>-62.75</td>\n",
       "      <td>19.146345</td>\n",
       "    </tr>\n",
       "    <tr>\n",
       "      <th>2007-12-16 12:00:00</th>\n",
       "      <td>31.952162</td>\n",
       "      <td>-62.25</td>\n",
       "      <td>19.013693</td>\n",
       "    </tr>\n",
       "  </tbody>\n",
       "</table>\n",
       "<p>2640 rows × 3 columns</p>\n",
       "</div>"
      ],
      "text/plain": [
       "                            yh     xh  tunicate_200\n",
       "time                                               \n",
       "1997-01-16 12:00:00  30.239665 -63.75     13.465969\n",
       "1997-01-16 12:00:00  30.239665 -63.25     13.021398\n",
       "1997-01-16 12:00:00  30.239665 -62.75     12.656522\n",
       "1997-01-16 12:00:00  30.239665 -62.25     13.211735\n",
       "1997-01-16 12:00:00  30.670676 -63.75     13.247891\n",
       "...                        ...    ...           ...\n",
       "2007-12-16 12:00:00  31.526940 -62.25     18.473448\n",
       "2007-12-16 12:00:00  31.952162 -63.75     22.472105\n",
       "2007-12-16 12:00:00  31.952162 -63.25     20.406038\n",
       "2007-12-16 12:00:00  31.952162 -62.75     19.146345\n",
       "2007-12-16 12:00:00  31.952162 -62.25     19.013693\n",
       "\n",
       "[2640 rows x 3 columns]"
      ]
     },
     "execution_count": 17,
     "metadata": {},
     "output_type": "execute_result"
    }
   ],
   "source": [
    "batsdf_pivot=batsdf.reset_index(['xh','yh'])\n",
    "batsdf_pivot"
   ]
  },
  {
   "cell_type": "code",
   "execution_count": 18,
   "metadata": {},
   "outputs": [
    {
     "data": {
      "text/plain": [
       "DatetimeIndex(['1997-01-16 12:00:00', '1997-01-16 12:00:00',\n",
       "               '1997-01-16 12:00:00', '1997-01-16 12:00:00',\n",
       "               '1997-01-16 12:00:00', '1997-01-16 12:00:00',\n",
       "               '1997-01-16 12:00:00', '1997-01-16 12:00:00',\n",
       "               '1997-01-16 12:00:00', '1997-01-16 12:00:00',\n",
       "               ...\n",
       "               '2007-12-16 12:00:00', '2007-12-16 12:00:00',\n",
       "               '2007-12-16 12:00:00', '2007-12-16 12:00:00',\n",
       "               '2007-12-16 12:00:00', '2007-12-16 12:00:00',\n",
       "               '2007-12-16 12:00:00', '2007-12-16 12:00:00',\n",
       "               '2007-12-16 12:00:00', '2007-12-16 12:00:00'],\n",
       "              dtype='datetime64[ns]', length=2640, freq=None)"
      ]
     },
     "execution_count": 18,
     "metadata": {},
     "output_type": "execute_result"
    }
   ],
   "source": [
    "batsdf_pivot.index = batsdf_pivot.index.to_datetimeindex()\n",
    "batsdf_pivot.index"
   ]
  },
  {
   "cell_type": "code",
   "execution_count": null,
   "metadata": {},
   "outputs": [],
   "source": []
  },
  {
   "cell_type": "code",
   "execution_count": 19,
   "metadata": {},
   "outputs": [],
   "source": [
    "import seaborn as sns"
   ]
  },
  {
   "cell_type": "code",
   "execution_count": 20,
   "metadata": {},
   "outputs": [
    {
     "data": {
      "image/png": "[encoded data removed]",
      "text/plain": [
       "<Figure size 432x288 with 1 Axes>"
      ]
     },
     "metadata": {
      "needs_background": "light"
     },
     "output_type": "display_data"
    }
   ],
   "source": [
    "plt.figure(figsize=(6,4))\n",
    "plt.scatter(palmerdf_pivot.index, palmerdf_pivot.tunicate_200, alpha=0.3, s=10)\n",
    "plt.ylabel('Tunicate biomass, mg C $m^{-2}$')\n",
    "plt.savefig('plots/'+short_casename+'_'+pp_dates+'_palmerLTER_tunicates.png', dpi=150, bbox_inches='tight')"
   ]
  },
  {
   "cell_type": "code",
   "execution_count": 21,
   "metadata": {},
   "outputs": [
    {
     "data": {
      "image/png": "[encoded data removed]",
      "text/plain": [
       "<Figure size 432x288 with 1 Axes>"
      ]
     },
     "metadata": {
      "needs_background": "light"
     },
     "output_type": "display_data"
    }
   ],
   "source": [
    "plt.figure(figsize=(6,4))\n",
    "plt.scatter(batsdf_pivot.index, batsdf_pivot.tunicate_200, alpha=0.5, s=10)\n",
    "plt.ylabel('Tunicate biomass, mg C $m^{-2}$')\n",
    "plt.savefig('plots/'+short_casename+'_'+pp_dates+'_BATS_tunicates.png', dpi=150, bbox_inches='tight')"
   ]
  },
  {
   "cell_type": "code",
   "execution_count": null,
   "metadata": {},
   "outputs": [],
   "source": []
  }
 ],
 "metadata": {
  "kernelspec": {
   "display_name": "Python 3 (ipykernel)",
   "language": "python",
   "name": "python3"
  },
  "language_info": {
   "codemirror_mode": {
    "name": "ipython",
    "version": 3
   },
   "file_extension": ".py",
   "mimetype": "text/x-python",
   "name": "python",
   "nbconvert_exporter": "python",
   "pygments_lexer": "ipython3",
   "version": "3.7.3"
  }
 },
 "nbformat": 4,
 "nbformat_minor": 2
}
