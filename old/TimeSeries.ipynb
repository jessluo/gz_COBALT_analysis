{
 "cells": [
  {
   "cell_type": "code",
   "execution_count": 22,
   "metadata": {},
   "outputs": [],
   "source": [
    "%matplotlib inline\n",
    "\n",
    "import os, subprocess, tarfile\n",
    "from glob import glob\n",
    "import numpy as np\n",
    "import xarray as xr\n",
    "import matplotlib\n",
    "import matplotlib.pyplot as plt\n",
    "import matplotlib.gridspec as gridspec\n",
    "import cartopy.crs as ccrs\n",
    "\n",
    "import warnings\n",
    "warnings.filterwarnings('ignore')\n",
    "\n",
    "seconds_per_day=60.*60.*24.\n",
    "seconds_per_year=365.*seconds_per_day\n",
    "carbon_molar_mass=12.011\n",
    "cobalt_c_2_n = 106./16."
   ]
  },
  {
   "cell_type": "code",
   "execution_count": 23,
   "metadata": {},
   "outputs": [],
   "source": [
    "path_root='/archive/Jessica.Luo/gz_test/MOM6_SIS2_COBALT'\n",
    "\n",
    "#case,machine_target='OM4p5_CORE2_IAF_COBALT_abio_csf_mle200','gfdl.ncrc4-intel16-prod'\n",
    "#case,machine_target='OM4p5_CORE2_IAF_gzCOBALT-013120','gfdl.ncrc4-intel16-prod'\n",
    "\n",
    "#case,machine_target='OM4p5_CORE2_IAF_gzCOBALT-082620','gfdl.ncrc4-intel16-prod'\n",
    "#case,machine_target='OM4p5_CORE2_IAF_gzCOBALT-082620_b','gfdl.ncrc4-intel16-prod'\n",
    "#case,machine_target='OM4p5_CORE2_IAF_gzCOBALT-082620_c','gfdl.ncrc4-intel16-prod'\n",
    "#case,machine_target='OM4p5_CORE2_IAF_gzCOBALT-082620_d','gfdl.ncrc4-intel16-prod'\n",
    "case,machine_target='OM4p5_CORE2_IAF_gzCOBALT-102620','gfdl.ncrc4-intel16-prod'"
   ]
  },
  {
   "cell_type": "code",
   "execution_count": 24,
   "metadata": {},
   "outputs": [
    {
     "data": {
      "text/plain": [
       "'gzCOBALT-102620'"
      ]
     },
     "execution_count": 24,
     "metadata": {},
     "output_type": "execute_result"
    }
   ],
   "source": [
    "short_casename=case.replace('OM4p5_CORE2_IAF_','')\n",
    "short_casename"
   ]
  },
  {
   "cell_type": "code",
   "execution_count": 25,
   "metadata": {},
   "outputs": [],
   "source": [
    "phyto_varlist = ['di', 'smp', 'lgp']\n",
    "#zoo_varlist = ['smz', 'mdz', 'lgz']\n",
    "zoo_varlist = ['smz', 'mdz', 'lgz', 'smt', 'lgt']"
   ]
  },
  {
   "cell_type": "code",
   "execution_count": 26,
   "metadata": {},
   "outputs": [
    {
     "name": "stdout",
     "output_type": "stream",
     "text": [
      "temporary directory exists: /work/Jessica.Luo/tmp/OM4p5_CORE2_IAF_gzCOBALT-102620\n"
     ]
    }
   ],
   "source": [
    "tmpdir = '/work/Jessica.Luo/tmp/'+case\n",
    "if not os.path.exists(tmpdir):\n",
    "    os.mkdir(tmpdir)\n",
    "    print('created directory: '+tmpdir)\n",
    "else:\n",
    "    print('temporary directory exists: '+tmpdir)"
   ]
  },
  {
   "cell_type": "code",
   "execution_count": 27,
   "metadata": {},
   "outputs": [],
   "source": [
    "# read in files\n",
    "diagTypes = ['ocean_cobalt_tracers_int'] \n",
    "var_list = ['tunicate_200', 'mesozoo_200']\n",
    "\n",
    "pp_dates='198801-200712'\n",
    "\n",
    "files=[glob(tmpdir + '.'.join(['/ocean_cobalt_tracers_int*',pp_dates,v,'nc'])) for v in var_list]"
   ]
  },
  {
   "cell_type": "code",
   "execution_count": 28,
   "metadata": {},
   "outputs": [
    {
     "name": "stdout",
     "output_type": "stream",
     "text": [
      "[]\n"
     ]
    }
   ],
   "source": [
    "from itertools import chain\n",
    "files = list(chain.from_iterable(i if isinstance(i, list) else [i] for i in files))\n",
    "\n",
    "print(files)"
   ]
  },
  {
   "cell_type": "code",
   "execution_count": 29,
   "metadata": {},
   "outputs": [
    {
     "name": "stdout",
     "output_type": "stream",
     "text": [
      "empty\n"
     ]
    }
   ],
   "source": [
    "if not files:\n",
    "    print(\"empty\")"
   ]
  },
  {
   "cell_type": "code",
   "execution_count": 30,
   "metadata": {},
   "outputs": [
    {
     "ename": "OSError",
     "evalue": "no files to open",
     "output_type": "error",
     "traceback": [
      "\u001b[0;31m---------------------------------------------------------------------------\u001b[0m",
      "\u001b[0;31mOSError\u001b[0m                                   Traceback (most recent call last)",
      "\u001b[0;32m<ipython-input-30-eb68f02794a3>\u001b[0m in \u001b[0;36m<module>\u001b[0;34m\u001b[0m\n\u001b[1;32m      1\u001b[0m \u001b[0mgrid_file\u001b[0m\u001b[0;34m=\u001b[0m\u001b[0mtmpdir\u001b[0m\u001b[0;34m+\u001b[0m\u001b[0;34m'/ocean_static.nc'\u001b[0m\u001b[0;34m\u001b[0m\u001b[0;34m\u001b[0m\u001b[0m\n\u001b[0;32m----> 2\u001b[0;31m \u001b[0mds\u001b[0m\u001b[0;34m=\u001b[0m\u001b[0mxr\u001b[0m\u001b[0;34m.\u001b[0m\u001b[0mopen_mfdataset\u001b[0m\u001b[0;34m(\u001b[0m\u001b[0mfiles\u001b[0m\u001b[0;34m,\u001b[0m \u001b[0mcombine\u001b[0m\u001b[0;34m=\u001b[0m\u001b[0;34m'by_coords'\u001b[0m\u001b[0;34m)\u001b[0m\u001b[0;34m\u001b[0m\u001b[0;34m\u001b[0m\u001b[0m\n\u001b[0m\u001b[1;32m      3\u001b[0m \u001b[0mgrid\u001b[0m\u001b[0;34m=\u001b[0m\u001b[0mxr\u001b[0m\u001b[0;34m.\u001b[0m\u001b[0mopen_dataset\u001b[0m\u001b[0;34m(\u001b[0m\u001b[0mgrid_file\u001b[0m\u001b[0;34m)\u001b[0m\u001b[0;34m\u001b[0m\u001b[0;34m\u001b[0m\u001b[0m\n",
      "\u001b[0;32m/net/Jessica.Luo/miniconda3/lib/python3.7/site-packages/xarray/backends/api.py\u001b[0m in \u001b[0;36mopen_mfdataset\u001b[0;34m(paths, chunks, concat_dim, compat, preprocess, engine, lock, data_vars, coords, combine, autoclose, parallel, join, **kwargs)\u001b[0m\n\u001b[1;32m    869\u001b[0m \u001b[0;34m\u001b[0m\u001b[0m\n\u001b[1;32m    870\u001b[0m     \u001b[0;32mif\u001b[0m \u001b[0;32mnot\u001b[0m \u001b[0mpaths\u001b[0m\u001b[0;34m:\u001b[0m\u001b[0;34m\u001b[0m\u001b[0;34m\u001b[0m\u001b[0m\n\u001b[0;32m--> 871\u001b[0;31m         \u001b[0;32mraise\u001b[0m \u001b[0mOSError\u001b[0m\u001b[0;34m(\u001b[0m\u001b[0;34m\"no files to open\"\u001b[0m\u001b[0;34m)\u001b[0m\u001b[0;34m\u001b[0m\u001b[0;34m\u001b[0m\u001b[0m\n\u001b[0m\u001b[1;32m    872\u001b[0m \u001b[0;34m\u001b[0m\u001b[0m\n\u001b[1;32m    873\u001b[0m     \u001b[0;31m# If combine='by_coords' then this is unnecessary, but quick.\u001b[0m\u001b[0;34m\u001b[0m\u001b[0;34m\u001b[0m\u001b[0;34m\u001b[0m\u001b[0m\n",
      "\u001b[0;31mOSError\u001b[0m: no files to open"
     ]
    }
   ],
   "source": [
    "grid_file=tmpdir+'/ocean_static.nc'\n",
    "ds=xr.open_mfdataset(files, combine='by_coords')\n",
    "grid=xr.open_dataset(grid_file)"
   ]
  },
  {
   "cell_type": "code",
   "execution_count": null,
   "metadata": {},
   "outputs": [],
   "source": [
    "ds"
   ]
  },
  {
   "cell_type": "code",
   "execution_count": null,
   "metadata": {},
   "outputs": [],
   "source": [
    "plt.figure(figsize=(20,8))\n",
    "plt.imshow(ds.tunicate_200.isel(time=0).values)"
   ]
  },
  {
   "cell_type": "code",
   "execution_count": null,
   "metadata": {},
   "outputs": [],
   "source": [
    "plt.imshow(ds.tunicate_200.isel(xh=slice(460,490), yh=slice(360,390), time=0).values, origin='bottom')"
   ]
  },
  {
   "cell_type": "code",
   "execution_count": null,
   "metadata": {},
   "outputs": [],
   "source": [
    "plt.imshow(ds.tunicate_200.isel(xh=slice(470,475), yh=slice(380,385), time=0).values, origin='bottom')"
   ]
  },
  {
   "cell_type": "code",
   "execution_count": null,
   "metadata": {},
   "outputs": [],
   "source": [
    "(ds.tunicate_200.isel(xh=slice(470,475), yh=slice(380,385), time=slice(240-96,240)).mean(dim=['xh','yh'])/ds.tunicate_200.isel(xh=slice(470,475), yh=slice(380,385), time=slice(240-96,240)).mean()).plot()\n",
    "(ds.mesozoo_200.isel(xh=slice(470,475), yh=slice(380,385), time=slice(240-96,240)).mean(dim=['xh','yh'])/ds.mesozoo_200.isel(xh=slice(470,475), yh=slice(380,385), time=slice(240-96,240)).mean()).plot()\n",
    "plt.legend(['tunicate','mesozoo'])"
   ]
  },
  {
   "cell_type": "code",
   "execution_count": null,
   "metadata": {},
   "outputs": [],
   "source": []
  },
  {
   "cell_type": "code",
   "execution_count": null,
   "metadata": {},
   "outputs": [],
   "source": [
    "plt.imshow(ds.tunicate_200.isel(time=0).values, origin='bottom')\n",
    "xh=473\n",
    "yh=384\n",
    "plt.scatter(y=yh,x=xh, color='red')\n",
    "plt.savefig('plots/'+short_casename+'_northAtl_loc.png', dpi=150, bbox_inches='tight')\n"
   ]
  },
  {
   "cell_type": "code",
   "execution_count": null,
   "metadata": {},
   "outputs": [],
   "source": [
    "xh=473\n",
    "yh=384\n",
    "(ds.tunicate_200.isel(xh=xh, yh=yh, time=slice(240-96,240))/ds.tunicate_200.isel(xh=xh, yh=yh, time=slice(240-96,240)).mean()).plot()\n",
    "(ds.mesozoo_200.isel(xh=xh, yh=yh, time=slice(240-96,240))/ds.mesozoo_200.isel(xh=xh, yh=yh, time=slice(240-96,240)).mean()).plot()\n",
    "print(\"Lat: \", grid.geolat.isel(xh=xh,yh=yh).values, \"Lon: \", grid.geolon.isel(xh=xh,yh=yh).values)\n",
    "plt.legend(['tunicate','mesozoo'])\n",
    "plt.savefig('plots/'+short_casename+'_'+pp_dates+'_northAtl_ts_biomass_200.png', dpi=150, bbox_inches='tight')"
   ]
  },
  {
   "cell_type": "code",
   "execution_count": null,
   "metadata": {},
   "outputs": [],
   "source": [
    "plt.imshow(ds.tunicate_200.isel(time=0).values, origin='bottom')\n",
    "xh=400\n",
    "yh=300\n",
    "plt.scatter(y=yh,x=xh, color='red')"
   ]
  },
  {
   "cell_type": "code",
   "execution_count": null,
   "metadata": {},
   "outputs": [],
   "source": [
    "xh=400\n",
    "yh=300\n",
    "(ds.tunicate_200.isel(xh=xh, yh=yh, time=slice(240-96,240))/ds.tunicate_200.isel(xh=xh, yh=yh, time=slice(240-96,240)).mean()).plot()\n",
    "(ds.mesozoo_200.isel(xh=xh, yh=yh, time=slice(240-96,240))/ds.mesozoo_200.isel(xh=xh, yh=yh, time=slice(240-96,240)).mean()).plot()\n",
    "print(\"Lat: \", grid.geolat.isel(xh=xh,yh=yh).values, \"Lon: \", grid.geolon.isel(xh=xh,yh=yh).values)\n",
    "plt.legend(['tunicate','mesozoo'])\n",
    "plt.savefig('plots/'+short_casename+'_'+pp_dates+'_EEqPac_ts_biomass_200.png', dpi=150, bbox_inches='tight')"
   ]
  },
  {
   "cell_type": "code",
   "execution_count": null,
   "metadata": {},
   "outputs": [],
   "source": [
    "plt.imshow(ds.tunicate_200.isel(time=0).values, origin='bottom')\n",
    "xh=468\n",
    "yh=80\n",
    "plt.scatter(y=yh,x=xh, color='red')"
   ]
  },
  {
   "cell_type": "code",
   "execution_count": null,
   "metadata": {},
   "outputs": [],
   "source": [
    "xh=468\n",
    "yh=80\n",
    "(ds.tunicate_200.isel(xh=xh, yh=yh, time=slice(240-24,240))/ds.tunicate_200.isel(xh=xh, yh=yh, time=slice(240-24,240)).mean()).plot()\n",
    "(ds.mesozoo_200.isel(xh=xh, yh=yh, time=slice(240-24,240))/ds.mesozoo_200.isel(xh=xh, yh=yh, time=slice(240-24,240)).mean()).plot()\n",
    "print(\"Lat: \", grid.geolat.isel(xh=xh,yh=yh).values, \"Lon: \", grid.geolon.isel(xh=xh,yh=yh).values)\n",
    "plt.legend(['tunicate','mesozoo'])\n",
    "plt.savefig('plots/'+short_casename+'_'+pp_dates+'_WestAntarcticPenin_ts_biomass_200.png', dpi=150, bbox_inches='tight')"
   ]
  }
 ],
 "metadata": {
  "kernelspec": {
   "display_name": "Python 3",
   "language": "python",
   "name": "python3"
  },
  "language_info": {
   "codemirror_mode": {
    "name": "ipython",
    "version": 3
   },
   "file_extension": ".py",
   "mimetype": "text/x-python",
   "name": "python",
   "nbconvert_exporter": "python",
   "pygments_lexer": "ipython3",
   "version": "3.7.3"
  }
 },
 "nbformat": 4,
 "nbformat_minor": 2
}
